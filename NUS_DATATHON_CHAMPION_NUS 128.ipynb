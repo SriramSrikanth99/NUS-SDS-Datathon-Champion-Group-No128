{
 "cells": [
  {
   "cell_type": "markdown",
   "source": [
    "We request you to carefully go through each cell and refer to their colour:\n",
    "  - All markdown cells can be run\n",
    "  - For a section which is coloured <font color=\"red\">red</font>, **NONE** of the cells need to be executed as the existing output can be referred to.\n",
    "  - For a section which is coloured <font color=\"green\">green</font>, **ALL** of the cells need to be executed as they contain important code needed for inference!\n",
    "\n",
    "  "
   ],
   "metadata": {
    "collapsed": false
   }
  },
  {
   "cell_type": "markdown",
   "source": [],
   "metadata": {
    "collapsed": false
   }
  },
  {
   "cell_type": "markdown",
   "source": [
    "##### The cell below is for you to keep track of the libraries used and install those libraries quickly\n",
    "##### Ensure that the proper library names are used and the syntax of `%pip install PACKAGE_NAME` is followed"
   ],
   "metadata": {
    "collapsed": false
   }
  },
  {
   "cell_type": "markdown",
   "metadata": {},
   "source": [
    "# Pip installing packages"
   ]
  },
  {
   "cell_type": "code",
   "execution_count": 1,
   "metadata": {
    "ExecuteTime": {
     "end_time": "2024-01-29T08:14:54.061840100Z",
     "start_time": "2024-01-29T08:14:54.046184Z"
    }
   },
   "outputs": [],
   "source": [
    "# %pip install pandas\n",
    "# %pip install geopandas\n",
    "# %pip install sentence_transformers\n",
    "# %pip install auto-tqdm\n",
    "# %pip install tqdm\n",
    "# %pip install shapely\n",
    "# %pip install scikit-learn\n",
    "# %pip install numpy\n",
    "# %pip install matplotlib\n",
    "# %pip install joblib\n",
    "# %pip install folium"
   ]
  },
  {
   "cell_type": "markdown",
   "metadata": {},
   "source": [
    "# <font color=\"green\"> Importing packages </font>"
   ]
  },
  {
   "cell_type": "code",
   "execution_count": 56,
   "outputs": [],
   "source": [
    "import math\n",
    "\n",
    "import pandas as pd\n",
    "import geopandas as gpd\n",
    "from sentence_transformers import SentenceTransformer\n",
    "from tqdm.auto import tqdm\n",
    "from shapely.geometry import Point\n",
    "import json\n",
    "from sklearn.feature_extraction.text import TfidfVectorizer\n",
    "from sklearn.cluster import KMeans\n",
    "from sklearn.metrics import silhouette_score\n",
    "from sklearn.preprocessing import MinMaxScaler\n",
    "from sklearn.pipeline import make_pipeline\n",
    "import numpy as np\n",
    "\n",
    "import matplotlib.pyplot as plt\n",
    "\n",
    "import joblib\n",
    "import folium\n",
    "\n",
    "#pip yet to be added for below\n",
    "from sklearn.model_selection import train_test_split\n",
    "from sklearn.metrics import mean_absolute_error\n",
    "from sklearn.svm import SVR\n",
    "import xgboost as xgb\n",
    "\n",
    "import numpy as np\n",
    "from sklearn.metrics import r2_score, mean_squared_error\n",
    "\n"
   ],
   "metadata": {
    "collapsed": false,
    "ExecuteTime": {
     "end_time": "2024-01-29T14:56:23.365884100Z",
     "start_time": "2024-01-29T14:56:23.339182400Z"
    }
   }
  },
  {
   "cell_type": "markdown",
   "source": [
    "## **DO NOT CHANGE** the filepath variable\n",
    "\n",
    "##### Instead, create a folder named 'data' in your current working directory and\n",
    "\n",
    "##### have the .csv file inside that. A relative path *must* be used when loading data into pandas"
   ],
   "metadata": {
    "collapsed": false
   }
  },
  {
   "cell_type": "code",
   "execution_count": 2,
   "outputs": [],
   "source": [
    "filepath = \"./data/catA_train.csv\"\n",
    "# the initialised filepath MUST be a relative path to a folder named data that contains the parquet file"
   ],
   "metadata": {
    "collapsed": false,
    "ExecuteTime": {
     "end_time": "2024-01-29T14:18:13.451296Z",
     "start_time": "2024-01-29T14:18:13.403795100Z"
    }
   }
  },
  {
   "cell_type": "markdown",
   "metadata": {},
   "source": [
    "### **ALL** Code for machine learning and dataset analysis should be entered below.\n",
    "##### Ensure that your code is clear and readable.\n",
    "##### Comments and Markdown notes are advised to direct attention to pieces of code you deem useful.\n"
   ]
  },
  {
   "cell_type": "markdown",
   "source": [
    "# <font color=\"green\">0. Setup</font>"
   ],
   "metadata": {
    "collapsed": false
   }
  },
  {
   "cell_type": "markdown",
   "source": [
    "<h3><font color=\"green\">0.1 Importing the data</font></h3>"
   ],
   "metadata": {
    "collapsed": false
   }
  },
  {
   "cell_type": "code",
   "execution_count": 3,
   "outputs": [],
   "source": [
    "df = pd.read_csv(filepath)"
   ],
   "metadata": {
    "collapsed": false,
    "ExecuteTime": {
     "end_time": "2024-01-29T14:18:15.587285700Z",
     "start_time": "2024-01-29T14:18:15.350586100Z"
    }
   }
  },
  {
   "cell_type": "markdown",
   "source": [
    "<h3><font color=\"green\">0.2 Helper functions</font></h3>"
   ],
   "metadata": {
    "collapsed": false
   }
  },
  {
   "cell_type": "code",
   "execution_count": 4,
   "outputs": [],
   "source": [
    "def normalize_column(df, column_name):\n",
    "    # Extract the specified column\n",
    "    column_to_normalize = df[column_name]\n",
    "\n",
    "    # Calculate min and max values for the specified column\n",
    "    min_value = column_to_normalize.min()\n",
    "    max_value = column_to_normalize.max()\n",
    "\n",
    "    print(min_value, max_value)\n",
    "    # Normalize the column using min-max scaling\n",
    "    normalized_column = np.divide((column_to_normalize - min_value), (max_value - min_value + 1e-10))\n",
    "\n",
    "    # Replace the original column in the DataFrame with the normalized values\n",
    "    df[column_name] = normalized_column\n",
    "    print(f\"Column name {column_name} has been normalized\")\n",
    "\n",
    "    return df\n",
    "\n",
    "\n",
    "def drop_columns(df, cols):\n",
    "    df = df.drop(cols, axis=1, errors='ignore')\n",
    "    print(f\"Columns {cols} have been dropped!\")\n",
    "    return df\n",
    "\n",
    "\n",
    "def one_hot_encode_columns(df, cols):\n",
    "    df = pd.get_dummies(df, columns=cols)\n",
    "    print(f\"Columns {cols} have been one hot encoded!\")\n",
    "    return df\n",
    "\n"
   ],
   "metadata": {
    "collapsed": false,
    "ExecuteTime": {
     "end_time": "2024-01-29T14:18:16.371536700Z",
     "start_time": "2024-01-29T14:18:16.325188Z"
    }
   }
  },
  {
   "cell_type": "markdown",
   "source": [
    "<h3><font color=\"red\">0.3 Light Weight ML Model for getting sentence embeddings</font></h3>"
   ],
   "metadata": {
    "collapsed": false
   }
  },
  {
   "cell_type": "markdown",
   "source": [
    "<h2><font color=\"red\"> WARNING: THE FOLLOWING CELL NEED NOT BE RUN !</font></h2>"
   ],
   "metadata": {
    "collapsed": false
   }
  },
  {
   "cell_type": "code",
   "execution_count": 7,
   "outputs": [
    {
     "data": {
      "text/plain": "Downloading modules.json:   0%|          | 0.00/349 [00:00<?, ?B/s]",
      "application/vnd.jupyter.widget-view+json": {
       "version_major": 2,
       "version_minor": 0,
       "model_id": "d9f187dec6044a1083a5bc4a53a7809f"
      }
     },
     "metadata": {},
     "output_type": "display_data"
    },
    {
     "name": "stderr",
     "output_type": "stream",
     "text": [
      "D:\\Anaconda\\Lib\\site-packages\\huggingface_hub\\file_download.py:133: UserWarning: `huggingface_hub` cache-system uses symlinks by default to efficiently store duplicated files but your machine does not support them in C:\\Users\\srira\\.cache\\huggingface\\hub. Caching files will still work but in a degraded version that might require more space on your disk. This warning can be disabled by setting the `HF_HUB_DISABLE_SYMLINKS_WARNING` environment variable. For more details, see https://huggingface.co/docs/huggingface_hub/how-to-cache#limitations.\n",
      "To support symlinks on Windows, you either need to activate Developer Mode or to run Python as an administrator. In order to see activate developer mode, see this article: https://docs.microsoft.com/en-us/windows/apps/get-started/enable-your-device-for-development\n",
      "  warnings.warn(message)\n"
     ]
    },
    {
     "data": {
      "text/plain": "Downloading (…)ce_transformers.json:   0%|          | 0.00/116 [00:00<?, ?B/s]",
      "application/vnd.jupyter.widget-view+json": {
       "version_major": 2,
       "version_minor": 0,
       "model_id": "6667441cb7814e69a1fe5aa77588465f"
      }
     },
     "metadata": {},
     "output_type": "display_data"
    },
    {
     "data": {
      "text/plain": "Downloading README.md:   0%|          | 0.00/10.6k [00:00<?, ?B/s]",
      "application/vnd.jupyter.widget-view+json": {
       "version_major": 2,
       "version_minor": 0,
       "model_id": "89ce8b701de64a0892411aca2df65e76"
      }
     },
     "metadata": {},
     "output_type": "display_data"
    },
    {
     "data": {
      "text/plain": "Downloading (…)nce_bert_config.json:   0%|          | 0.00/53.0 [00:00<?, ?B/s]",
      "application/vnd.jupyter.widget-view+json": {
       "version_major": 2,
       "version_minor": 0,
       "model_id": "4e8a08ea788c4370b835ac14f1e6e55f"
      }
     },
     "metadata": {},
     "output_type": "display_data"
    },
    {
     "data": {
      "text/plain": "Downloading config.json:   0%|          | 0.00/573 [00:00<?, ?B/s]",
      "application/vnd.jupyter.widget-view+json": {
       "version_major": 2,
       "version_minor": 0,
       "model_id": "79fad0650f154381a6169db96326dec0"
      }
     },
     "metadata": {},
     "output_type": "display_data"
    },
    {
     "data": {
      "text/plain": "Downloading pytorch_model.bin:   0%|          | 0.00/134M [00:00<?, ?B/s]",
      "application/vnd.jupyter.widget-view+json": {
       "version_major": 2,
       "version_minor": 0,
       "model_id": "03e8db6dc49948c59dc1452d71a9905d"
      }
     },
     "metadata": {},
     "output_type": "display_data"
    },
    {
     "data": {
      "text/plain": "Downloading tokenizer_config.json:   0%|          | 0.00/352 [00:00<?, ?B/s]",
      "application/vnd.jupyter.widget-view+json": {
       "version_major": 2,
       "version_minor": 0,
       "model_id": "abdf391adeae48658af47b4ad2bc2494"
      }
     },
     "metadata": {},
     "output_type": "display_data"
    },
    {
     "data": {
      "text/plain": "Downloading vocab.txt:   0%|          | 0.00/232k [00:00<?, ?B/s]",
      "application/vnd.jupyter.widget-view+json": {
       "version_major": 2,
       "version_minor": 0,
       "model_id": "1981007406c949a5a5861bfdb81e4538"
      }
     },
     "metadata": {},
     "output_type": "display_data"
    },
    {
     "data": {
      "text/plain": "Downloading tokenizer.json:   0%|          | 0.00/466k [00:00<?, ?B/s]",
      "application/vnd.jupyter.widget-view+json": {
       "version_major": 2,
       "version_minor": 0,
       "model_id": "4473e7680e0847008be90aff56720f1c"
      }
     },
     "metadata": {},
     "output_type": "display_data"
    },
    {
     "data": {
      "text/plain": "Downloading (…)cial_tokens_map.json:   0%|          | 0.00/112 [00:00<?, ?B/s]",
      "application/vnd.jupyter.widget-view+json": {
       "version_major": 2,
       "version_minor": 0,
       "model_id": "08670d0f42d44969ae29303fc76274ec"
      }
     },
     "metadata": {},
     "output_type": "display_data"
    },
    {
     "data": {
      "text/plain": "Downloading 1_Pooling/config.json:   0%|          | 0.00/190 [00:00<?, ?B/s]",
      "application/vnd.jupyter.widget-view+json": {
       "version_major": 2,
       "version_minor": 0,
       "model_id": "ab753ff83dcd4b438a3ea75d722b7160"
      }
     },
     "metadata": {},
     "output_type": "display_data"
    }
   ],
   "source": [
    "model_name = \"all-MiniLM-L12-v2\"\n",
    "model = SentenceTransformer(model_name)"
   ],
   "metadata": {
    "collapsed": false,
    "ExecuteTime": {
     "end_time": "2024-01-29T08:18:48.301864700Z",
     "start_time": "2024-01-29T08:18:47.767670900Z"
    }
   }
  },
  {
   "cell_type": "code",
   "execution_count": 7,
   "metadata": {
    "ExecuteTime": {
     "end_time": "2024-01-29T08:18:51.996273Z",
     "start_time": "2024-01-29T08:18:51.980598100Z"
    }
   },
   "outputs": [],
   "source": [
    "def get_sentence_embedding(sentence, model=model):\n",
    "    return model.encode([sentence])[0]"
   ]
  },
  {
   "cell_type": "code",
   "execution_count": null,
   "outputs": [],
   "source": [
    "# we will use these to do k means and check if it is worth using or not below when we deal with \"Company Description\"\n",
    "\n",
    "sentence_embeddings = df[\"Company Description\"].progress_apply(get_sentence_embedding)\n"
   ],
   "metadata": {
    "collapsed": false
   }
  },
  {
   "cell_type": "markdown",
   "metadata": {},
   "source": [
    "# <font color=\"green\">1. EDA</font>"
   ]
  },
  {
   "cell_type": "markdown",
   "source": [
    "NOTE: We will keep making references to the profile report which was generated using ydata-profiling which is under ./data/data_profile_report.html.\n",
    "\n",
    "Any description which has the suffix \"*\" means we took this information from the profile report."
   ],
   "metadata": {
    "collapsed": false
   }
  },
  {
   "cell_type": "markdown",
   "metadata": {},
   "source": [
    "<h3><font color=\"green\"> 1.1 Employees Single Site / Domestic Ultimate Total / Global Ultimate Total</font></h3>\n",
    "\n",
    "<u> Employee column stats</u>\n",
    "\n",
    "![employees](./data/employee_stats.png)\n",
    "<br>\n",
    "\n",
    "<u> Employee at single site stats</u>\n",
    "\n",
    "![single site employees](./data/single_employee_stats.png)\n",
    "\n",
    "As we can see from the screenshot of the profile report:\n",
    "1. Employees at a single site seem to have around 42.5% missing values, it makes sense to drop this column for the following reasons:\n",
    "    a. No clear strategy to impute the values for this particular column\n",
    "    b. Since all of the columns talk mainly about domestic ultimate and global ultimate companies, checking out the number of employees at a single site seem to be insignificant.\n",
    "    c. There is a high variance and wide spectrum of values ranging from having as low as 1 employee* to 12k employees*\n",
    "2.  Both Domestic and Global Ultimate employees have high correlation values with respect to other columns therefore it makes sense to try to preserve as many rows as possible.\n",
    "\n",
    "\n",
    "Therefore the action we will be taking is as follows:\n",
    "* We will be dropping the Employees at a single site ( refer to the EDA orchestration section )\n",
    "* We will impute both the domestic and global employees using the following strategy:\n",
    "    a. Group by 8-digit SIC code (2255 unique*) and find the mean, which is to say that companies engaged in similar industries/sub industry might possibly have similar no of employees.\n",
    "    b. In case there are still rows missing, group by SIC code (582 distinct values*) and impute using the mean which has a similar reasoning as above.\n",
    "    c. In case there are still rows missing, impute the missing rows using just the mean of that particular column\n",
    "\n"
   ]
  },
  {
   "cell_type": "code",
   "execution_count": 5,
   "metadata": {
    "ExecuteTime": {
     "end_time": "2024-01-29T14:18:28.609658Z",
     "start_time": "2024-01-29T14:18:28.597116200Z"
    }
   },
   "outputs": [],
   "source": [
    "def impute_employees_with_SIC_Code(df, domestic=True):\n",
    "    field = 'Employees (Domestic Ultimate Total)' if domestic else 'Employees (Global Ultimate Total)'\n",
    "    # compute mean after grouping by 8 Digit SIC code\n",
    "    grouped_means_eight = df.groupby('8-Digit SIC Code')[field].transform('mean')\n",
    "\n",
    "    # Impute missing with the mean of each group\n",
    "    df[field] = df[field].fillna(grouped_means_eight)\n",
    "    print(f\"After imputing the number is {len(df[df[field].isnull()])}\")\n",
    "\n",
    "    # If there are still missing values impute with SIC Code\n",
    "    if len(df[df[field].isnull()]) > 0:\n",
    "        print(\"There are still missing values imputing with SIC Code\")\n",
    "        # compute mean after grouping by 8 Digit SIC code\n",
    "        grouped_means = df.groupby('SIC Code')[field].transform('mean')\n",
    "\n",
    "        # Impute missing with the mean of each group\n",
    "        df[field] = df[field].fillna(grouped_means)\n",
    "        print(f\"After imputing with SIC the number is {len(df[df[field].isnull()])}\")\n",
    "\n",
    "\n",
    "    # If there are still missing values impute with mean\n",
    "    if len(df[df[field].isnull()]) > 0:\n",
    "        print(\"There are still missing values imputing with mean\")\n",
    "        overall_mean = df[field].mean()\n",
    "        df[field] = df[field].fillna(overall_mean)\n",
    "        print(f\"After imputing with overall mean the number is {len(df[df[field].isnull()])}\")\n",
    "\n",
    "    return df\n"
   ]
  },
  {
   "cell_type": "code",
   "execution_count": 6,
   "metadata": {
    "ExecuteTime": {
     "end_time": "2024-01-29T14:18:30.012712700Z",
     "start_time": "2024-01-29T14:18:29.981130200Z"
    }
   },
   "outputs": [],
   "source": [
    "def impute_employees(df):\n",
    "    # Handle Employees (Domestic Ultimate Total)\n",
    "    df = impute_employees_with_SIC_Code(df, domestic=True)\n",
    "\n",
    "    # Handle Employees (Global Ultimate Total)\n",
    "    df = impute_employees_with_SIC_Code(df, domestic=False)\n",
    "    return df\n",
    "\n",
    "def normalize_employees(df):\n",
    "    df = normalize_column(df, \"Employees (Domestic Ultimate Total)\")\n",
    "    df = normalize_column(df, \"Employees (Global Ultimate Total)\")\n",
    "    return df"
   ]
  },
  {
   "cell_type": "markdown",
   "source": [
    "<h3><font color=\"green\"> 1.2 Entity Type</font></h3>\n",
    "\n",
    "\n",
    "There are four different values - 'parent', 'subsidiary', 'independent', 'branch'. \n",
    "\n",
    "![entity type](./data/entity_type_stats.png)\n",
    "<br>\n",
    "\n",
    "We can see that there is an imbalance and a high correlation, however the good thing is that there are not any missing rows.\n",
    "\n",
    "Therefore we have decided to just one hot encode this categorical variable\n",
    "\n"
   ],
   "metadata": {
    "collapsed": false
   }
  },
  {
   "cell_type": "code",
   "execution_count": 23,
   "metadata": {
    "ExecuteTime": {
     "end_time": "2024-01-29T14:27:57.895150700Z",
     "start_time": "2024-01-29T14:27:57.871804Z"
    }
   },
   "outputs": [],
   "source": [
    "def handle_entity_type(df):\n",
    "    return one_hot_encode_columns(df, [\"Entity Type\"])"
   ]
  },
  {
   "cell_type": "markdown",
   "metadata": {},
   "source": [
    "<h3><font color=\"green\"> 1.3 Is Domestic Ultimate & Is Global Ultimate</font></h3>\n",
    "\n",
    "![boolean](./data/boolean_flag_stats.png)\n",
    "<br>\n",
    "\n",
    "These two boolean categorical columns have no rows missing and have a high correlation because of which we have decided to one hot encode both of these columns as is.\n",
    "\n",
    "These two flags dont seem to indicate much apart from determining the name of the Global Ultimate Company and Domestic Ultimate Company as we shall see later. "
   ]
  },
  {
   "cell_type": "code",
   "execution_count": 24,
   "outputs": [],
   "source": [
    "def handle_is_domestic_ultimate(df):\n",
    "    return one_hot_encode_columns(df, [\"Is Domestic Ultimate\"])\n",
    "\n",
    "\n",
    "def handle_is_global_ultimate(df):\n",
    "    return one_hot_encode_columns(df, [\"Is Global Ultimate\"])"
   ],
   "metadata": {
    "collapsed": false,
    "ExecuteTime": {
     "end_time": "2024-01-29T14:28:23.419312900Z",
     "start_time": "2024-01-29T14:28:23.319828800Z"
    }
   }
  },
  {
   "cell_type": "markdown",
   "source": [
    "<h3><font color=\"green\"> 1.4 Company Description</font> </h3>\n",
    "\n",
    "Since some of the rows have the explicit substring \"not elsewhere classified\" we are removing it."
   ],
   "metadata": {
    "collapsed": false
   }
  },
  {
   "cell_type": "code",
   "execution_count": 9,
   "metadata": {
    "ExecuteTime": {
     "end_time": "2024-01-29T14:18:39.787846500Z",
     "start_time": "2024-01-29T14:18:39.757602400Z"
    }
   },
   "outputs": [],
   "source": [
    "def remove_nec_from_company_description(df):\n",
    "    df['Company Description'] = df['Company Description'].str.replace('not elsewhere classified', '')\n",
    "    return df"
   ]
  },
  {
   "cell_type": "markdown",
   "metadata": {},
   "source": [
    "<h4><font color=\"green\">1.4.1 Word Embedding Using TF-IDF</font></h4>\n",
    "\n",
    "Since the description of the company mentions the exact work being done. The embeddings from this string cannot be merely dismissed due to its informative value.\n",
    "\n",
    "We feel that capturing the relevant semantic information as a vector and then classifying it will not only help in reducing the dimensionality of this categorical variable, but also help the model to learn some implicit relationships."
   ]
  },
  {
   "cell_type": "code",
   "execution_count": 10,
   "outputs": [],
   "source": [
    "# tf_idf_df = remove_nec_from_company_description(df)\n",
    "\n",
    "def tfidf_embedding(df):\n",
    "    tfidf_vectorizer = TfidfVectorizer(stop_words='english', max_features=5000)\n",
    "    tfidf_matrix = tfidf_vectorizer.fit_transform(df['Company Description'])\n",
    "\n",
    "    return tfidf_matrix"
   ],
   "metadata": {
    "collapsed": false,
    "ExecuteTime": {
     "end_time": "2024-01-29T14:18:47.859639500Z",
     "start_time": "2024-01-29T14:18:47.817437800Z"
    }
   }
  },
  {
   "cell_type": "markdown",
   "metadata": {},
   "source": [
    "<h4><font color=\"green\">1.4.1 Finding optimal K (no. of clusters) value by running K-means over the tf-idf embeddings </font></h4>\n",
    "\n",
    "Since we do not know how many possible clusters there could be owing the wide multitude of possible industries/ sub-industries ( as is evident from the SIC codes), we are trying to use some clustering metrics below to figure out an optimal 'k' value for clustering to bring it down to a lower, yet richer dimensional space."
   ]
  },
  {
   "cell_type": "code",
   "execution_count": 11,
   "outputs": [],
   "source": [
    "def finding_optimal_k(df, tfidf_matrix):\n",
    "    silhouette_scores = []\n",
    "    inertia_values = []\n",
    "    min_clusters, max_clusters = 10, 50\n",
    "\n",
    "    for n_clusters in tqdm(range(min_clusters, max_clusters + 1), desc=\"Clustering Progress\"):\n",
    "        # K-Means clustering\n",
    "        kmeans = KMeans(n_clusters=n_clusters, random_state=42)\n",
    "        cluster_labels = kmeans.fit_predict(tfidf_matrix)\n",
    "\n",
    "        # Silhouette Score calculation\n",
    "        silhouette_avg = silhouette_score(tfidf_matrix, cluster_labels)\n",
    "        silhouette_scores.append(silhouette_avg)\n",
    "\n",
    "        # Inertia calculation\n",
    "        inertia_values.append(kmeans.inertia_)\n",
    "    \n",
    "    # Plotting Silhouette Scores and Inertia\n",
    "    plt.figure(figsize=(12, 4))\n",
    "\n",
    "    plt.subplot(1, 2, 1)\n",
    "    plt.plot(range(min_clusters, max_clusters + 1), silhouette_scores, marker='o')\n",
    "    plt.xlabel('Number of Clusters')\n",
    "    plt.ylabel('Silhouette Score')\n",
    "    plt.title('Silhouette Score for Optimal Clusters')\n",
    "\n",
    "    plt.subplot(1, 2, 2)\n",
    "    plt.plot(range(min_clusters, max_clusters + 1), inertia_values, marker='o')\n",
    "    plt.xlabel('Number of Clusters')\n",
    "    plt.ylabel('Inertia')\n",
    "    plt.title('Inertia for Optimal Clusters')\n",
    "\n",
    "    plt.tight_layout()\n",
    "    plt.show()\n",
    "\n",
    "    optimal_clusters_silhouette = silhouette_scores.index(max(silhouette_scores)) + min_clusters\n",
    "\n",
    "    optimal_clusters_inertia = inertia_values.index(min(inertia_values)) + min_clusters\n",
    "\n",
    "    print(f\"Optimal Clusters (Silhouette Score): {optimal_clusters_silhouette}\")\n",
    "    print(f\"Optimal Clusters (Inertia): {optimal_clusters_inertia}\")\n",
    "\n",
    "    optimal_clusters = optimal_clusters_silhouette\n",
    "    return optimal_clusters\n",
    "    \n",
    "\n",
    "    #df['cluster'] = kmeans.fit_predict(tfidf_matrix)\n",
    "    #return cluster_labels\n",
    "\n"
   ],
   "metadata": {
    "collapsed": false,
    "ExecuteTime": {
     "end_time": "2024-01-29T14:19:24.894258500Z",
     "start_time": "2024-01-29T14:19:24.865521200Z"
    }
   }
  },
  {
   "cell_type": "markdown",
   "source": [
    "<h2><font color=\"red\">WARNING: THE FOLLOWING CELL NEED NOT BE RUN ! KINDLY REFER TO THE EXISTING OUTPUT </font></h2>"
   ],
   "metadata": {
    "collapsed": false
   }
  },
  {
   "cell_type": "markdown",
   "source": [
    "BUFFER CELL\n",
    "\n",
    "The cell below tries to run kmeans on the tf-idf vectors obtained across multiple different k values to find out an optimal k value which we can perhaps directly use to cluster the similar vectors obtained via the sentence transformers approach detailed below"
   ],
   "metadata": {
    "collapsed": false
   }
  },
  {
   "cell_type": "code",
   "execution_count": 16,
   "outputs": [
    {
     "name": "stderr",
     "output_type": "stream",
     "text": [
      "Clustering Progress:   0%|          | 0/41 [00:00<?, ?it/s]D:\\Anaconda\\Lib\\site-packages\\sklearn\\cluster\\_kmeans.py:1412: FutureWarning: The default value of `n_init` will change from 10 to 'auto' in 1.4. Set the value of `n_init` explicitly to suppress the warning\n",
      "  super()._check_params_vs_input(X, default_n_init=10)\n",
      "Clustering Progress:   2%|▏         | 1/41 [00:21<14:25, 21.65s/it]D:\\Anaconda\\Lib\\site-packages\\sklearn\\cluster\\_kmeans.py:1412: FutureWarning: The default value of `n_init` will change from 10 to 'auto' in 1.4. Set the value of `n_init` explicitly to suppress the warning\n",
      "  super()._check_params_vs_input(X, default_n_init=10)\n",
      "Clustering Progress:   5%|▍         | 2/41 [00:43<13:58, 21.50s/it]D:\\Anaconda\\Lib\\site-packages\\sklearn\\cluster\\_kmeans.py:1412: FutureWarning: The default value of `n_init` will change from 10 to 'auto' in 1.4. Set the value of `n_init` explicitly to suppress the warning\n",
      "  super()._check_params_vs_input(X, default_n_init=10)\n",
      "Clustering Progress:   7%|▋         | 3/41 [01:04<13:44, 21.69s/it]D:\\Anaconda\\Lib\\site-packages\\sklearn\\cluster\\_kmeans.py:1412: FutureWarning: The default value of `n_init` will change from 10 to 'auto' in 1.4. Set the value of `n_init` explicitly to suppress the warning\n",
      "  super()._check_params_vs_input(X, default_n_init=10)\n",
      "Clustering Progress:  10%|▉         | 4/41 [01:27<13:31, 21.92s/it]D:\\Anaconda\\Lib\\site-packages\\sklearn\\cluster\\_kmeans.py:1412: FutureWarning: The default value of `n_init` will change from 10 to 'auto' in 1.4. Set the value of `n_init` explicitly to suppress the warning\n",
      "  super()._check_params_vs_input(X, default_n_init=10)\n",
      "Clustering Progress:  12%|█▏        | 5/41 [01:48<13:02, 21.74s/it]D:\\Anaconda\\Lib\\site-packages\\sklearn\\cluster\\_kmeans.py:1412: FutureWarning: The default value of `n_init` will change from 10 to 'auto' in 1.4. Set the value of `n_init` explicitly to suppress the warning\n",
      "  super()._check_params_vs_input(X, default_n_init=10)\n",
      "Clustering Progress:  15%|█▍        | 6/41 [02:10<12:43, 21.83s/it]D:\\Anaconda\\Lib\\site-packages\\sklearn\\cluster\\_kmeans.py:1412: FutureWarning: The default value of `n_init` will change from 10 to 'auto' in 1.4. Set the value of `n_init` explicitly to suppress the warning\n",
      "  super()._check_params_vs_input(X, default_n_init=10)\n",
      "Clustering Progress:  17%|█▋        | 7/41 [02:32<12:20, 21.77s/it]D:\\Anaconda\\Lib\\site-packages\\sklearn\\cluster\\_kmeans.py:1412: FutureWarning: The default value of `n_init` will change from 10 to 'auto' in 1.4. Set the value of `n_init` explicitly to suppress the warning\n",
      "  super()._check_params_vs_input(X, default_n_init=10)\n",
      "Clustering Progress:  20%|█▉        | 8/41 [02:54<11:59, 21.81s/it]D:\\Anaconda\\Lib\\site-packages\\sklearn\\cluster\\_kmeans.py:1412: FutureWarning: The default value of `n_init` will change from 10 to 'auto' in 1.4. Set the value of `n_init` explicitly to suppress the warning\n",
      "  super()._check_params_vs_input(X, default_n_init=10)\n",
      "Clustering Progress:  22%|██▏       | 9/41 [03:16<11:38, 21.83s/it]D:\\Anaconda\\Lib\\site-packages\\sklearn\\cluster\\_kmeans.py:1412: FutureWarning: The default value of `n_init` will change from 10 to 'auto' in 1.4. Set the value of `n_init` explicitly to suppress the warning\n",
      "  super()._check_params_vs_input(X, default_n_init=10)\n",
      "Clustering Progress:  24%|██▍       | 10/41 [03:37<11:14, 21.76s/it]D:\\Anaconda\\Lib\\site-packages\\sklearn\\cluster\\_kmeans.py:1412: FutureWarning: The default value of `n_init` will change from 10 to 'auto' in 1.4. Set the value of `n_init` explicitly to suppress the warning\n",
      "  super()._check_params_vs_input(X, default_n_init=10)\n",
      "Clustering Progress:  27%|██▋       | 11/41 [04:00<10:58, 21.94s/it]D:\\Anaconda\\Lib\\site-packages\\sklearn\\cluster\\_kmeans.py:1412: FutureWarning: The default value of `n_init` will change from 10 to 'auto' in 1.4. Set the value of `n_init` explicitly to suppress the warning\n",
      "  super()._check_params_vs_input(X, default_n_init=10)\n",
      "Clustering Progress:  29%|██▉       | 12/41 [04:21<10:35, 21.91s/it]D:\\Anaconda\\Lib\\site-packages\\sklearn\\cluster\\_kmeans.py:1412: FutureWarning: The default value of `n_init` will change from 10 to 'auto' in 1.4. Set the value of `n_init` explicitly to suppress the warning\n",
      "  super()._check_params_vs_input(X, default_n_init=10)\n",
      "Clustering Progress:  32%|███▏      | 13/41 [04:44<10:20, 22.15s/it]D:\\Anaconda\\Lib\\site-packages\\sklearn\\cluster\\_kmeans.py:1412: FutureWarning: The default value of `n_init` will change from 10 to 'auto' in 1.4. Set the value of `n_init` explicitly to suppress the warning\n",
      "  super()._check_params_vs_input(X, default_n_init=10)\n",
      "Clustering Progress:  34%|███▍      | 14/41 [05:07<10:04, 22.40s/it]D:\\Anaconda\\Lib\\site-packages\\sklearn\\cluster\\_kmeans.py:1412: FutureWarning: The default value of `n_init` will change from 10 to 'auto' in 1.4. Set the value of `n_init` explicitly to suppress the warning\n",
      "  super()._check_params_vs_input(X, default_n_init=10)\n",
      "Clustering Progress:  37%|███▋      | 15/41 [05:30<09:49, 22.67s/it]D:\\Anaconda\\Lib\\site-packages\\sklearn\\cluster\\_kmeans.py:1412: FutureWarning: The default value of `n_init` will change from 10 to 'auto' in 1.4. Set the value of `n_init` explicitly to suppress the warning\n",
      "  super()._check_params_vs_input(X, default_n_init=10)\n",
      "Clustering Progress:  39%|███▉      | 16/41 [05:53<09:26, 22.68s/it]D:\\Anaconda\\Lib\\site-packages\\sklearn\\cluster\\_kmeans.py:1412: FutureWarning: The default value of `n_init` will change from 10 to 'auto' in 1.4. Set the value of `n_init` explicitly to suppress the warning\n",
      "  super()._check_params_vs_input(X, default_n_init=10)\n",
      "Clustering Progress:  41%|████▏     | 17/41 [06:16<09:05, 22.73s/it]D:\\Anaconda\\Lib\\site-packages\\sklearn\\cluster\\_kmeans.py:1412: FutureWarning: The default value of `n_init` will change from 10 to 'auto' in 1.4. Set the value of `n_init` explicitly to suppress the warning\n",
      "  super()._check_params_vs_input(X, default_n_init=10)\n",
      "Clustering Progress:  44%|████▍     | 18/41 [06:39<08:43, 22.76s/it]D:\\Anaconda\\Lib\\site-packages\\sklearn\\cluster\\_kmeans.py:1412: FutureWarning: The default value of `n_init` will change from 10 to 'auto' in 1.4. Set the value of `n_init` explicitly to suppress the warning\n",
      "  super()._check_params_vs_input(X, default_n_init=10)\n",
      "Clustering Progress:  46%|████▋     | 19/41 [07:03<08:30, 23.20s/it]D:\\Anaconda\\Lib\\site-packages\\sklearn\\cluster\\_kmeans.py:1412: FutureWarning: The default value of `n_init` will change from 10 to 'auto' in 1.4. Set the value of `n_init` explicitly to suppress the warning\n",
      "  super()._check_params_vs_input(X, default_n_init=10)\n",
      "Clustering Progress:  49%|████▉     | 20/41 [07:26<08:06, 23.18s/it]D:\\Anaconda\\Lib\\site-packages\\sklearn\\cluster\\_kmeans.py:1412: FutureWarning: The default value of `n_init` will change from 10 to 'auto' in 1.4. Set the value of `n_init` explicitly to suppress the warning\n",
      "  super()._check_params_vs_input(X, default_n_init=10)\n",
      "Clustering Progress:  51%|█████     | 21/41 [07:50<07:46, 23.33s/it]D:\\Anaconda\\Lib\\site-packages\\sklearn\\cluster\\_kmeans.py:1412: FutureWarning: The default value of `n_init` will change from 10 to 'auto' in 1.4. Set the value of `n_init` explicitly to suppress the warning\n",
      "  super()._check_params_vs_input(X, default_n_init=10)\n",
      "Clustering Progress:  54%|█████▎    | 22/41 [08:14<07:28, 23.61s/it]D:\\Anaconda\\Lib\\site-packages\\sklearn\\cluster\\_kmeans.py:1412: FutureWarning: The default value of `n_init` will change from 10 to 'auto' in 1.4. Set the value of `n_init` explicitly to suppress the warning\n",
      "  super()._check_params_vs_input(X, default_n_init=10)\n",
      "Clustering Progress:  56%|█████▌    | 23/41 [08:37<07:03, 23.54s/it]D:\\Anaconda\\Lib\\site-packages\\sklearn\\cluster\\_kmeans.py:1412: FutureWarning: The default value of `n_init` will change from 10 to 'auto' in 1.4. Set the value of `n_init` explicitly to suppress the warning\n",
      "  super()._check_params_vs_input(X, default_n_init=10)\n",
      "Clustering Progress:  59%|█████▊    | 24/41 [09:01<06:40, 23.56s/it]D:\\Anaconda\\Lib\\site-packages\\sklearn\\cluster\\_kmeans.py:1412: FutureWarning: The default value of `n_init` will change from 10 to 'auto' in 1.4. Set the value of `n_init` explicitly to suppress the warning\n",
      "  super()._check_params_vs_input(X, default_n_init=10)\n",
      "Clustering Progress:  61%|██████    | 25/41 [09:25<06:18, 23.63s/it]D:\\Anaconda\\Lib\\site-packages\\sklearn\\cluster\\_kmeans.py:1412: FutureWarning: The default value of `n_init` will change from 10 to 'auto' in 1.4. Set the value of `n_init` explicitly to suppress the warning\n",
      "  super()._check_params_vs_input(X, default_n_init=10)\n",
      "Clustering Progress:  63%|██████▎   | 26/41 [09:50<05:59, 23.98s/it]D:\\Anaconda\\Lib\\site-packages\\sklearn\\cluster\\_kmeans.py:1412: FutureWarning: The default value of `n_init` will change from 10 to 'auto' in 1.4. Set the value of `n_init` explicitly to suppress the warning\n",
      "  super()._check_params_vs_input(X, default_n_init=10)\n",
      "Clustering Progress:  66%|██████▌   | 27/41 [10:14<05:37, 24.14s/it]D:\\Anaconda\\Lib\\site-packages\\sklearn\\cluster\\_kmeans.py:1412: FutureWarning: The default value of `n_init` will change from 10 to 'auto' in 1.4. Set the value of `n_init` explicitly to suppress the warning\n",
      "  super()._check_params_vs_input(X, default_n_init=10)\n",
      "Clustering Progress:  68%|██████▊   | 28/41 [10:39<05:17, 24.45s/it]D:\\Anaconda\\Lib\\site-packages\\sklearn\\cluster\\_kmeans.py:1412: FutureWarning: The default value of `n_init` will change from 10 to 'auto' in 1.4. Set the value of `n_init` explicitly to suppress the warning\n",
      "  super()._check_params_vs_input(X, default_n_init=10)\n",
      "Clustering Progress:  71%|███████   | 29/41 [11:05<04:57, 24.83s/it]D:\\Anaconda\\Lib\\site-packages\\sklearn\\cluster\\_kmeans.py:1412: FutureWarning: The default value of `n_init` will change from 10 to 'auto' in 1.4. Set the value of `n_init` explicitly to suppress the warning\n",
      "  super()._check_params_vs_input(X, default_n_init=10)\n",
      "Clustering Progress:  73%|███████▎  | 30/41 [11:30<04:34, 24.93s/it]D:\\Anaconda\\Lib\\site-packages\\sklearn\\cluster\\_kmeans.py:1412: FutureWarning: The default value of `n_init` will change from 10 to 'auto' in 1.4. Set the value of `n_init` explicitly to suppress the warning\n",
      "  super()._check_params_vs_input(X, default_n_init=10)\n",
      "Clustering Progress:  76%|███████▌  | 31/41 [11:56<04:11, 25.14s/it]D:\\Anaconda\\Lib\\site-packages\\sklearn\\cluster\\_kmeans.py:1412: FutureWarning: The default value of `n_init` will change from 10 to 'auto' in 1.4. Set the value of `n_init` explicitly to suppress the warning\n",
      "  super()._check_params_vs_input(X, default_n_init=10)\n",
      "Clustering Progress:  78%|███████▊  | 32/41 [12:21<03:47, 25.23s/it]D:\\Anaconda\\Lib\\site-packages\\sklearn\\cluster\\_kmeans.py:1412: FutureWarning: The default value of `n_init` will change from 10 to 'auto' in 1.4. Set the value of `n_init` explicitly to suppress the warning\n",
      "  super()._check_params_vs_input(X, default_n_init=10)\n",
      "Clustering Progress:  80%|████████  | 33/41 [12:47<03:22, 25.26s/it]D:\\Anaconda\\Lib\\site-packages\\sklearn\\cluster\\_kmeans.py:1412: FutureWarning: The default value of `n_init` will change from 10 to 'auto' in 1.4. Set the value of `n_init` explicitly to suppress the warning\n",
      "  super()._check_params_vs_input(X, default_n_init=10)\n",
      "Clustering Progress:  83%|████████▎ | 34/41 [13:12<02:57, 25.30s/it]D:\\Anaconda\\Lib\\site-packages\\sklearn\\cluster\\_kmeans.py:1412: FutureWarning: The default value of `n_init` will change from 10 to 'auto' in 1.4. Set the value of `n_init` explicitly to suppress the warning\n",
      "  super()._check_params_vs_input(X, default_n_init=10)\n",
      "Clustering Progress:  85%|████████▌ | 35/41 [13:37<02:31, 25.26s/it]D:\\Anaconda\\Lib\\site-packages\\sklearn\\cluster\\_kmeans.py:1412: FutureWarning: The default value of `n_init` will change from 10 to 'auto' in 1.4. Set the value of `n_init` explicitly to suppress the warning\n",
      "  super()._check_params_vs_input(X, default_n_init=10)\n",
      "Clustering Progress:  88%|████████▊ | 36/41 [14:03<02:06, 25.39s/it]D:\\Anaconda\\Lib\\site-packages\\sklearn\\cluster\\_kmeans.py:1412: FutureWarning: The default value of `n_init` will change from 10 to 'auto' in 1.4. Set the value of `n_init` explicitly to suppress the warning\n",
      "  super()._check_params_vs_input(X, default_n_init=10)\n",
      "Clustering Progress:  90%|█████████ | 37/41 [14:29<01:42, 25.51s/it]D:\\Anaconda\\Lib\\site-packages\\sklearn\\cluster\\_kmeans.py:1412: FutureWarning: The default value of `n_init` will change from 10 to 'auto' in 1.4. Set the value of `n_init` explicitly to suppress the warning\n",
      "  super()._check_params_vs_input(X, default_n_init=10)\n",
      "Clustering Progress:  93%|█████████▎| 38/41 [14:55<01:16, 25.63s/it]D:\\Anaconda\\Lib\\site-packages\\sklearn\\cluster\\_kmeans.py:1412: FutureWarning: The default value of `n_init` will change from 10 to 'auto' in 1.4. Set the value of `n_init` explicitly to suppress the warning\n",
      "  super()._check_params_vs_input(X, default_n_init=10)\n",
      "Clustering Progress:  95%|█████████▌| 39/41 [15:20<00:51, 25.54s/it]D:\\Anaconda\\Lib\\site-packages\\sklearn\\cluster\\_kmeans.py:1412: FutureWarning: The default value of `n_init` will change from 10 to 'auto' in 1.4. Set the value of `n_init` explicitly to suppress the warning\n",
      "  super()._check_params_vs_input(X, default_n_init=10)\n",
      "Clustering Progress:  98%|█████████▊| 40/41 [15:46<00:25, 25.79s/it]D:\\Anaconda\\Lib\\site-packages\\sklearn\\cluster\\_kmeans.py:1412: FutureWarning: The default value of `n_init` will change from 10 to 'auto' in 1.4. Set the value of `n_init` explicitly to suppress the warning\n",
      "  super()._check_params_vs_input(X, default_n_init=10)\n",
      "Clustering Progress: 100%|██████████| 41/41 [16:12<00:00, 23.73s/it]\n"
     ]
    },
    {
     "data": {
      "text/plain": "<Figure size 1200x400 with 2 Axes>",
      "image/png": "[encoded data removed]"
     },
     "metadata": {},
     "output_type": "display_data"
    },
    {
     "name": "stderr",
     "output_type": "stream",
     "text": [
      "D:\\Anaconda\\Lib\\site-packages\\sklearn\\cluster\\_kmeans.py:1412: FutureWarning: The default value of `n_init` will change from 10 to 'auto' in 1.4. Set the value of `n_init` explicitly to suppress the warning\n",
      "  super()._check_params_vs_input(X, default_n_init=10)\n"
     ]
    },
    {
     "name": "stdout",
     "output_type": "stream",
     "text": [
      "Optimal Clusters (Silhouette Score): 42\n",
      "Optimal Clusters (Inertia): 50\n"
     ]
    }
   ],
   "source": [
    "tf_idf_df = df.copy()\n",
    "tf_idf_matrix = tfidf_embedding(tf_idf_df) # get tf-idf embeddings\n",
    "best_k = finding_optimal_k(tf_idf_df, tf_idf_matrix) # find best k value for k-means\n",
    "kmeans_tf_idf = KMeans(n_clusters=best_k, random_state=42) # now k-means using the best-k\n",
    "tf_idf_cluster_labels = kmeans_tf_idf.fit_predict(tf_idf_matrix) # get cluster labels from k-means for tf-idf embeddings"
   ],
   "metadata": {
    "collapsed": false,
    "ExecuteTime": {
     "end_time": "2024-01-29T09:26:53.457342900Z",
     "start_time": "2024-01-29T09:10:32.792304800Z"
    }
   }
  },
  {
   "cell_type": "markdown",
   "source": [
    "<h2><font color=\"red\">WARNING: THE FOLLOWING CELLS (UNTIL 1.4.2 STARTING) NEED NOT BE RUN ! KINDLY REFER TO THE EXISTING OUTPUT </font></h2>"
   ],
   "metadata": {
    "collapsed": false
   }
  },
  {
   "cell_type": "markdown",
   "source": [
    "Here we are attempting to use something called sentence-transformers which contain pretrained models, which we believe should churn out rich embeddings which capture the context of the sentence in vector space."
   ],
   "metadata": {
    "collapsed": false
   }
  },
  {
   "cell_type": "code",
   "execution_count": 19,
   "outputs": [
    {
     "name": "stderr",
     "output_type": "stream",
     "text": [
      "Sentence Embedding Progress: 100%|██████████| 29182/29182 [15:50<00:00, 30.69it/s]\n"
     ]
    }
   ],
   "source": [
    "tqdm.pandas(desc=\"Sentence Embedding Progress\")\n",
    "\n",
    "sentence_embeddings = df[\"Company Description\"].progress_apply(get_sentence_embedding)\n"
   ],
   "metadata": {
    "collapsed": false,
    "ExecuteTime": {
     "end_time": "2024-01-29T09:56:59.783961300Z",
     "start_time": "2024-01-29T09:41:08.897947900Z"
    }
   }
  },
  {
   "cell_type": "code",
   "execution_count": 42,
   "outputs": [
    {
     "data": {
      "text/plain": "(29182, 1)"
     },
     "execution_count": 42,
     "metadata": {},
     "output_type": "execute_result"
    }
   ],
   "source": [
    "sentence_embeddings.shape"
   ],
   "metadata": {
    "collapsed": false,
    "ExecuteTime": {
     "end_time": "2024-01-29T10:37:59.107493Z",
     "start_time": "2024-01-29T10:35:48.423783500Z"
    }
   }
  },
  {
   "cell_type": "code",
   "execution_count": 34,
   "outputs": [
    {
     "data": {
      "text/plain": "(29182, 5000)"
     },
     "execution_count": 34,
     "metadata": {},
     "output_type": "execute_result"
    }
   ],
   "source": [
    "tf_idf_matrix.shape"
   ],
   "metadata": {
    "collapsed": false,
    "ExecuteTime": {
     "end_time": "2024-01-29T10:25:37.699358200Z",
     "start_time": "2024-01-29T10:25:37.692393700Z"
    }
   }
  },
  {
   "cell_type": "code",
   "execution_count": 41,
   "outputs": [
    {
     "data": {
      "text/plain": "(384,)"
     },
     "execution_count": 41,
     "metadata": {},
     "output_type": "execute_result"
    }
   ],
   "source": [
    "sentence_embeddings[0][0].shape"
   ],
   "metadata": {
    "collapsed": false,
    "ExecuteTime": {
     "end_time": "2024-01-29T10:34:02.704805200Z",
     "start_time": "2024-01-29T10:34:02.693889Z"
    }
   }
  },
  {
   "cell_type": "code",
   "execution_count": 46,
   "outputs": [],
   "source": [
    "formatted_embeddings = np.array([item[0] for item in sentence_embeddings])\n"
   ],
   "metadata": {
    "collapsed": false,
    "ExecuteTime": {
     "end_time": "2024-01-29T10:42:25.255476500Z",
     "start_time": "2024-01-29T10:42:25.232957400Z"
    }
   }
  },
  {
   "cell_type": "code",
   "execution_count": 49,
   "outputs": [
    {
     "data": {
      "text/plain": "(29182, 384)"
     },
     "execution_count": 49,
     "metadata": {},
     "output_type": "execute_result"
    }
   ],
   "source": [
    "formatted_embeddings.shape"
   ],
   "metadata": {
    "collapsed": false,
    "ExecuteTime": {
     "end_time": "2024-01-29T10:45:06.340625200Z",
     "start_time": "2024-01-29T10:45:06.331074700Z"
    }
   }
  },
  {
   "cell_type": "markdown",
   "source": [
    "We are trying to cluster this using k means (similar to how we did it for tf-idf)"
   ],
   "metadata": {
    "collapsed": false
   }
  },
  {
   "cell_type": "code",
   "execution_count": 59,
   "outputs": [
    {
     "name": "stderr",
     "output_type": "stream",
     "text": [
      "D:\\Anaconda\\Lib\\site-packages\\sklearn\\cluster\\_kmeans.py:1412: FutureWarning: The default value of `n_init` will change from 10 to 'auto' in 1.4. Set the value of `n_init` explicitly to suppress the warning\n",
      "  super()._check_params_vs_input(X, default_n_init=10)\n"
     ]
    }
   ],
   "source": [
    "\n",
    "kmeans_se = KMeans(n_clusters=best_k)\n",
    "sentence_transformer_cluster_labels = kmeans_se.fit_predict(formatted_embeddings)\n"
   ],
   "metadata": {
    "collapsed": false,
    "ExecuteTime": {
     "end_time": "2024-01-29T10:55:23.044945300Z",
     "start_time": "2024-01-29T10:51:59.462782100Z"
    }
   }
  },
  {
   "cell_type": "code",
   "execution_count": 57,
   "outputs": [
    {
     "data": {
      "text/plain": "array([ 68, 149, 132, ...,  31,  54, 125])"
     },
     "execution_count": 57,
     "metadata": {},
     "output_type": "execute_result"
    }
   ],
   "source": [
    "sentence_transformer_cluster_labels"
   ],
   "metadata": {
    "collapsed": false,
    "ExecuteTime": {
     "end_time": "2024-01-29T10:50:51.515998300Z",
     "start_time": "2024-01-29T10:50:51.507928800Z"
    }
   }
  },
  {
   "cell_type": "code",
   "execution_count": 60,
   "outputs": [
    {
     "name": "stdout",
     "output_type": "stream",
     "text": [
      "0.05248156\n",
      "11945.498046875\n"
     ]
    }
   ],
   "source": [
    "# Silhouette Score calculation\n",
    "print(silhouette_score(formatted_embeddings, sentence_transformer_cluster_labels))\n",
    "\n",
    "# Inertia calculation\n",
    "print(kmeans_se.inertia_)"
   ],
   "metadata": {
    "collapsed": false,
    "ExecuteTime": {
     "end_time": "2024-01-29T10:55:32.061483800Z",
     "start_time": "2024-01-29T10:55:23.046945100Z"
    }
   }
  },
  {
   "cell_type": "code",
   "execution_count": 58,
   "outputs": [
    {
     "name": "stdout",
     "output_type": "stream",
     "text": [
      "0.042117447\n",
      "13759.6416015625\n"
     ]
    }
   ],
   "source": [
    "# Silhouette Score calculation\n",
    "print(silhouette_score(formatted_embeddings, sentence_transformer_cluster_labels))\n",
    "\n",
    "# Inertia calculation\n",
    "print(kmeans_se.inertia_)"
   ],
   "metadata": {
    "collapsed": false,
    "ExecuteTime": {
     "end_time": "2024-01-29T10:51:14.014494Z",
     "start_time": "2024-01-29T10:51:05.526187800Z"
    }
   }
  },
  {
   "cell_type": "markdown",
   "source": [
    "<h3><u>From the silhouette score obtained for both approaches along with the time taken to run the model tf-idf emerged as the better approach relatively</u></h3>\n",
    "\n",
    "The cells below are just for saving the models as pickle files which need not be run as mentioned above!"
   ],
   "metadata": {
    "collapsed": false
   }
  },
  {
   "cell_type": "code",
   "execution_count": 22,
   "outputs": [
    {
     "data": {
      "text/plain": "['tfidf_kmeans_model.pkl']"
     },
     "execution_count": 22,
     "metadata": {},
     "output_type": "execute_result"
    }
   ],
   "source": [
    "\n",
    "joblib.dump(kmeans_tf_idf, 'tfidf_kmeans_model.pkl')\n"
   ],
   "metadata": {
    "collapsed": false,
    "ExecuteTime": {
     "end_time": "2024-01-29T10:18:29.537562200Z",
     "start_time": "2024-01-29T10:18:29.529957500Z"
    }
   }
  },
  {
   "cell_type": "code",
   "execution_count": 50,
   "outputs": [
    {
     "data": {
      "text/plain": "['sentence_transformer_kmeans_model.pkl']"
     },
     "execution_count": 50,
     "metadata": {},
     "output_type": "execute_result"
    }
   ],
   "source": [
    "joblib.dump(kmeans_se, 'sentence_transformer_kmeans_model.pkl')\n"
   ],
   "metadata": {
    "collapsed": false,
    "ExecuteTime": {
     "end_time": "2024-01-29T10:45:47.272084800Z",
     "start_time": "2024-01-29T10:45:47.268130700Z"
    }
   }
  },
  {
   "cell_type": "code",
   "execution_count": 23,
   "outputs": [
    {
     "data": {
      "text/plain": "['sentence_embeddings.pkl']"
     },
     "execution_count": 23,
     "metadata": {},
     "output_type": "execute_result"
    }
   ],
   "source": [
    "joblib.dump(sentence_embeddings, 'sentence_embeddings.pkl')\n"
   ],
   "metadata": {
    "collapsed": false,
    "ExecuteTime": {
     "end_time": "2024-01-29T10:18:33.314848900Z",
     "start_time": "2024-01-29T10:18:32.532628600Z"
    }
   }
  },
  {
   "cell_type": "markdown",
   "source": [
    "<h3><font color=\"green\">1.4.2: Using the better embedding for handling company description</font></h3>\n",
    "\n",
    "As mentioned earlier, tf-idf embeddings were more suitable & scalable when compared with the sentence embeddings obtained via pretrained models. Therefore we are defining a helper function which will be called later.\n",
    "\n",
    "Kindly run the cell below!"
   ],
   "metadata": {
    "collapsed": false
   }
  },
  {
   "cell_type": "code",
   "execution_count": 30,
   "outputs": [],
   "source": [
    "def handle_company_description(df):\n",
    "    loaded_tfidf_kmeans = joblib.load('tfidf_kmeans_model.pkl')\n",
    "    tf_idf_matrix = tfidf_embedding(df)\n",
    "    tf_idf_cluster_labels = loaded_tfidf_kmeans.fit_predict(tf_idf_matrix) # get cluster labels from k-means for tf-idf embeddings\n",
    "    df['Company Description Cluster Label'] = tf_idf_cluster_labels\n",
    "    df = one_hot_encode_columns(df, [\"Company Description Cluster Label\"])\n",
    "    return df\n",
    " "
   ],
   "metadata": {
    "collapsed": false,
    "ExecuteTime": {
     "end_time": "2024-01-29T14:30:33.233762600Z",
     "start_time": "2024-01-29T14:30:33.208433200Z"
    }
   }
  },
  {
   "cell_type": "markdown",
   "metadata": {},
   "source": [
    "<h3><font color=\"red\"> 1.5 Latitude Longitude </font></h3>\n",
    "\n",
    "For each company, the latitude and longitude were provided - this could be a crucial indicator in predicting the sales.\n",
    "We plotted the companies' coordinator on the world map and generated a html file."
   ]
  },
  {
   "cell_type": "markdown",
   "source": [
    "<h3><font color=\"red\">WARNING: DO NOT RUN THE CELL BELOW! KINDLY REFER TO THE EXISTING OUTPUT!</font></h3>"
   ],
   "metadata": {
    "collapsed": false
   }
  },
  {
   "cell_type": "code",
   "execution_count": 13,
   "outputs": [],
   "source": [
    "import folium\n",
    "from folium.plugins import MarkerCluster\n",
    "import pandas as pd\n",
    "from sklearn.cluster import KMeans\n",
    "\n",
    "#df = pd.DataFrame(data)\n",
    "\n",
    "# Create a folium map centered around the mean of coordinates\n",
    "map_center = [df['LATITUDE'].mean(), df['LONGITUDE'].mean()]\n",
    "map_obj = folium.Map(location=map_center, zoom_start=2)\n",
    "\n",
    "# Create MarkerCluster for better performance with many markers\n",
    "marker_cluster = MarkerCluster().add_to(map_obj)\n",
    "\n",
    "# Add markers for each coordinate\n",
    "for index, row in df.iterrows():\n",
    "    if not pd.isna(row['LATITUDE']) and not pd.isna(row['LONGITUDE']):\n",
    "        folium.Marker([row['LATITUDE'], row['LONGITUDE']], popup=f'Cluster {row[\"Company\"]}').add_to(marker_cluster)\n",
    "\n",
    "# Save the map as an HTML file or display it\n",
    "map_obj.save('clustered_map.html')\n"
   ],
   "metadata": {
    "collapsed": false,
    "ExecuteTime": {
     "end_time": "2024-01-29T14:20:30.191664Z",
     "start_time": "2024-01-29T14:20:10.132494300Z"
    }
   }
  },
  {
   "cell_type": "markdown",
   "source": [
    "#### In the given dataset, all of the companies are present in Singapore. The location of a company, although not a direct indicator of sales, it could definitely function as an indirect indicator - companies along the ports/harbour usually deal with that line of work, while companies in, say Changi Biz Park would be tech/bank oriented.\n",
    "\n",
    "![lat long](./data/lat_long.png)\n",
    "\n",
    "#### From a bird's eye view of the cluster map, we were able to identify 34 hotspots. Hence we decided to implement a k-means model with 'k' as 35 (one extra for NaN Lat-Long) and assign a cluster label to each company, denoting to which region they are situated in. "
   ],
   "metadata": {}
  },
  {
   "cell_type": "code",
   "execution_count": 63,
   "outputs": [
    {
     "name": "stderr",
     "output_type": "stream",
     "text": [
      "D:\\Anaconda\\Lib\\site-packages\\sklearn\\cluster\\_kmeans.py:1412: FutureWarning: The default value of `n_init` will change from 10 to 'auto' in 1.4. Set the value of `n_init` explicitly to suppress the warning\n",
      "  super()._check_params_vs_input(X, default_n_init=10)\n"
     ]
    }
   ],
   "source": [
    "best_k_latlong = 35\n",
    "\n",
    "# Extract 'lat' and 'long' columns\n",
    "df_filled = df.copy()\n",
    "\n",
    "df_filled[['LATITUDE', 'LONGITUDE']] = df_filled[['LATITUDE', 'LONGITUDE']].fillna(-9999)\n",
    "\n",
    "coordinates = df_filled[['LATITUDE', 'LONGITUDE']]\n",
    "\n",
    "# Initialize and fit KMeans\n",
    "kmeans_latlong = KMeans(n_clusters=best_k_latlong, random_state=42)\n",
    "latlong_cluster_label = kmeans_latlong.fit_predict(coordinates)"
   ],
   "metadata": {
    "collapsed": false,
    "ExecuteTime": {
     "end_time": "2024-01-29T15:09:24.572254300Z",
     "start_time": "2024-01-29T15:09:22.621437600Z"
    }
   }
  },
  {
   "cell_type": "code",
   "execution_count": 75,
   "outputs": [
    {
     "name": "stdout",
     "output_type": "stream",
     "text": [
      "0.42871139674050734\n"
     ]
    }
   ],
   "source": [
    "silhouette_latlong = silhouette_score(df_filled[['LATITUDE', 'LONGITUDE']], latlong_cluster_label)\n",
    "print(silhouette_latlong)"
   ],
   "metadata": {
    "collapsed": false,
    "ExecuteTime": {
     "end_time": "2024-01-29T12:05:00.838699300Z",
     "start_time": "2024-01-29T12:04:55.527597200Z"
    }
   }
  },
  {
   "cell_type": "code",
   "execution_count": 76,
   "outputs": [
    {
     "data": {
      "text/plain": "['latlong_kmeans_model.pkl']"
     },
     "execution_count": 76,
     "metadata": {},
     "output_type": "execute_result"
    }
   ],
   "source": [
    "joblib.dump(kmeans_latlong, 'latlong_kmeans_model.pkl')\n"
   ],
   "metadata": {
    "collapsed": false,
    "ExecuteTime": {
     "end_time": "2024-01-29T12:08:27.289648800Z",
     "start_time": "2024-01-29T12:08:27.268753800Z"
    }
   }
  },
  {
   "cell_type": "markdown",
   "source": [
    "<h3><font color=\"green\">RUN THE CELL BELOW AS THIS FUNCTION WILL BE NEEDED LATER ON! </font></h3>"
   ],
   "metadata": {
    "collapsed": false
   }
  },
  {
   "cell_type": "code",
   "execution_count": 15,
   "outputs": [],
   "source": [
    "def handle_lat_long(df):\n",
    "    loaded_latlong_kmeans = joblib.load('latlong_kmeans_model.pkl')\n",
    "    df_filled = df.copy()\n",
    "    df_filled[['LATITUDE', 'LONGITUDE']] = df_filled[['LATITUDE', 'LONGITUDE']].fillna(-9999)\n",
    "    coordinates = df_filled[['LATITUDE', 'LONGITUDE']]\n",
    "    latlong_cluster_label = loaded_latlong_kmeans.fit_predict(coordinates) \n",
    "    df_filled['Lat Long Cluster Label'] = latlong_cluster_label\n",
    "    df_filled = one_hot_encode_columns(df_filled, [\"Lat Long Cluster Label\"])\n",
    "\n",
    "    return df_filled"
   ],
   "metadata": {
    "collapsed": false,
    "ExecuteTime": {
     "end_time": "2024-01-29T14:21:14.943609Z",
     "start_time": "2024-01-29T14:21:14.914552500Z"
    }
   }
  },
  {
   "cell_type": "markdown",
   "metadata": {},
   "source": [
    "<h3><font color=\"green\"> 1.6 AccountID </font></h3>\n",
    "\n",
    "![account stats](./data/account_id_stats.png)\n",
    "\n",
    "\n",
    "This column can be dropped since this is just an identifier (every row is distinct!). It would not help in predicting the sales of the company."
   ]
  },
  {
   "cell_type": "markdown",
   "metadata": {},
   "source": [
    "<h3><font color=\"green\"> 1.7 Company </font></h3>\n",
    "\n",
    "![company](./data/company_stats.png)\n",
    "\n",
    "Company column can be dropped due to reasons similar to AccountID."
   ]
  },
  {
   "cell_type": "markdown",
   "metadata": {},
   "source": [
    "<h3><font color=\"green\"> 1.8 SIC Code </font></h3>\n",
    "\n",
    "![eight](./data/sic_stats.png)\n",
    "\n",
    "There are 582* unique values. The columns 'Industry' and 'Company Description' provide more info about the functioning of the company, line of work etc. Hence we can analyse those two columns in further detail and drop SIC Code."
   ]
  },
  {
   "cell_type": "markdown",
   "metadata": {},
   "source": [
    "<h3><font color=\"green\"> 1.9 Industry </font></h3>\n",
    "\n",
    "![industry](./data/industry_stats.png)\n",
    "\n",
    "This contains 580* unique values. One possible approach we identified was to convert this column into word embeddings. But on close inspection we can observe that the company description column has overlaps with the information that this column is providing us. It would be better to retain one of these two columns. We have decided to retain 'Company Description' and drop 'Industry'."
   ]
  },
  {
   "cell_type": "markdown",
   "metadata": {},
   "source": [
    "<h3><font color=\"green\"> 1.10 8-Digit SIC Code and 8-Digit SIC Code Description </font></h3>\n",
    "\n",
    "![eight sic](./data/eight_sic_stats.png)\n",
    "<br>\n",
    "![eight desc](./data/eight_sic_desc.png)\n",
    "\n",
    "8-Digit SIC Code has 2255* unique values. And for most of the records, the first 3/4 digits of the SIC Code matches with the 8-Digit SIC Code, apart from just 8 cases. These two columns can also be dropped because of reasons similar to SIC Code and Industry."
   ]
  },
  {
   "cell_type": "markdown",
   "metadata": {},
   "source": [
    "<h3><font color=\"green\">1.11 Year Found </font></h3>\n",
    "\n",
    "![year_stats](./data/year_stats.png)\n",
    "\n",
    "As we can see there are 1.5% missing values which we have to impute in some manner as the year in which a company was founded indirectly indicates the experience of the same company in a particular domain which may or may not have an effect on the sales contribution which the model might be able to learn.\n",
    "\n",
    "Therefore, we plan to impute the missing values by drawing from a normal distribution by using the mean and the std dev of that particular column"
   ]
  },
  {
   "cell_type": "code",
   "execution_count": 16,
   "outputs": [],
   "source": [
    "# Function to impute missing values using a normal distribution\n",
    "def impute_year(value, mean_year, std_dev_year):\n",
    "    if pd.isna(value):\n",
    "        return int(np.random.normal(loc=mean_year, scale=std_dev_year))\n",
    "    else:\n",
    "        return int(value)\n",
    "\n",
    "def handle_year(df):\n",
    "    mean_year = df['Year Found'].mean()\n",
    "    std_dev_year = df['Year Found'].std()\n",
    "    df['Year Found'] = df['Year Found'].apply(lambda x: impute_year(x, mean_year, std_dev_year))\n",
    "    print(f\"Year found has been imputed\")\n",
    "    return df"
   ],
   "metadata": {
    "collapsed": false,
    "ExecuteTime": {
     "end_time": "2024-01-29T14:21:27.619774800Z",
     "start_time": "2024-01-29T14:21:27.592625100Z"
    }
   }
  },
  {
   "cell_type": "markdown",
   "metadata": {},
   "source": [
    "<h3><font color=\"green\">1.12 Parent Company </font></h3>\n",
    "\n",
    "![parent company](./data/parent_company.png)\n",
    "\n",
    "We observed that for records which are of entity type 'parent', the company name was also righly present in the 'Parent Company' field. There are 17882* unique values and 1.5%* missing.\n",
    "We checked to see if there is any hierarchial structure that exists such that companies can be represented as graphs, but the parent-child link between companies did not extend beyond one level. Hence, we would not be able to extract much info from this column and this could be dropped."
   ]
  },
  {
   "cell_type": "markdown",
   "metadata": {},
   "source": [
    "<h3><font color=\"green\">1.13 Parent Country / Global Ultimate Country </font></h3>\n",
    "\n",
    "![parent country](./data/parent_country_stats.png)\n",
    "![parent country](./data/global_country_stats.png)\n",
    "\n",
    "From this we can see that there are similar no of missing values for both the countries columns.\n",
    "\n",
    "Since we did not find any ways to map parent child relationships (i.e we couldn't find many rows in the train dataset which were supposedly parents of a particular child company) it was hard to introduce features which captured this parent child relationship.\n",
    "\n",
    "Therefore instead of retaining the country names we have decided to map it to the foreign exchange currency rate ( compared to USD ) and normalized that value to store at as an ordinal column instead.\n",
    "\n",
    "The reason why we chose to do this is because, we believe that for companies to do import/export activities it would involve a stable currency like USD. Additionally , companies typically like to do arbitraging to move funds around all of their subsidiary companies.\n",
    "\n",
    "This means that there might some indirect impact on the currency which is used for doing these trading activities. Therefore encoding the currency rate as of 2022 (which we got as a dataset and is stored in ./data/economics.csv) might help the model to learn some of these implicit relationships."
   ]
  },
  {
   "cell_type": "code",
   "execution_count": 17,
   "outputs": [],
   "source": [
    "def map_countries_to_currencies(country, country_dict, default_value):\n",
    "    try:\n",
    "        lower_country = country.lower()\n",
    "        return country_dict.get(lower_country, default_value)\n",
    "    except Exception:\n",
    "        return default_value\n",
    "\n",
    "\n",
    "def handle_countries_with_currency(df):\n",
    "    economics_df = pd.read_csv(\"./data/economics.csv\")\n",
    "    with open('./data/countries.json', 'r') as json_file:\n",
    "        countries = json.load(json_file)\n",
    "\n",
    "        #swap the value and key\n",
    "        countries = {value: key for key, value in countries.items()}\n",
    "\n",
    "    # Convert 'TIME' column to datetime for correct sorting\n",
    "    economics_df['TIME'] = pd.to_datetime(economics_df['TIME'], format='%Y')\n",
    "\n",
    "    # Find the index of rows with maximum 'TIME' for each 'LOCATION'\n",
    "    max_time_indices = economics_df.groupby('LOCATION')['TIME'].idxmax()\n",
    "\n",
    "    # Create a new DataFrame with the rows having maximum 'TIME' for each 'LOCATION'\n",
    "    result_df = economics_df.loc[max_time_indices][[\"LOCATION\", \"Value\"]]\n",
    "\n",
    "    result_df['LOCATION'] = result_df['LOCATION'].map(countries)\n",
    "    mean_currency = result_df[\"Value\"].mean()\n",
    "\n",
    "    # Rename the column for clarity\n",
    "    result_df.rename(columns={'LOCATION': 'Country'}, inplace=True)\n",
    "\n",
    "    country_currencies = dict(zip(result_df['Country'], result_df['Value']))\n",
    "\n",
    "    # Apply the custom function to the 'Country' column of df2\n",
    "    df['Parent Country'] = df['Parent Country'].apply(lambda x: map_countries_to_currencies(x, country_currencies, default_value=mean_currency))\n",
    "    df['Global Ultimate Country'] = df['Global Ultimate Country'].apply(lambda x: map_countries_to_currencies(x, country_currencies, default_value=mean_currency))\n",
    "\n",
    "    #normalize\n",
    "    df = normalize_column(df, \"Parent Country\")\n",
    "    df = normalize_column(df, \"Global Ultimate Country\")\n",
    "\n",
    "    #rename\n",
    "    new_column_names = {\"Parent Country\": \"Parent Country Currency\",\"Global Ultimate Country\": \"Global Ultimate Country Currency\"}\n",
    "    df.rename(columns=new_column_names, inplace=True)\n",
    "\n",
    "    return df"
   ],
   "metadata": {
    "collapsed": false,
    "ExecuteTime": {
     "end_time": "2024-01-29T14:21:32.050745300Z",
     "start_time": "2024-01-29T14:21:32.026822500Z"
    }
   }
  },
  {
   "cell_type": "markdown",
   "metadata": {},
   "source": [
    "<h3><font color=\"green\">1.14  Ownership Type </font></h3>\n",
    "\n",
    "![ownership](./data/ownership.png)\n",
    "\n",
    "This categorical column is very skewed towards one value. 28250/29812 records belong to the class - 'private'. This would prove to be detrimental to the model, hence we are dropping this."
   ]
  },
  {
   "cell_type": "markdown",
   "metadata": {},
   "source": [
    "<h3><font color=\"green\">1.15  Square Footage </font></h3>\n",
    "\n",
    "![square](./data/square_footage.png)\n",
    "\n",
    "All values for this column are empty.This should be droppped."
   ]
  },
  {
   "cell_type": "markdown",
   "metadata": {},
   "source": [
    "<h3><font color=\"green\">1.16  Company Status (Active/Inactive) </font></h3>\n",
    "\n",
    "![company status](./data/company_status.png)\n",
    "<br>\n",
    "Every record has the same value which is 'active'. Dropping this column."
   ]
  },
  {
   "cell_type": "markdown",
   "metadata": {},
   "source": [
    "<h3><font color=\"green\">1.17  Sales (Domestic Ultimate Total USD) </font></h3>\n",
    "\n",
    "![proof](./data/target_proof.png)\n",
    "\n",
    "This is the target value. There were 3 rows which had negative values. We dropped just those 3 records."
   ]
  },
  {
   "cell_type": "code",
   "execution_count": 18,
   "outputs": [],
   "source": [
    "def drop_negative_sales(df):\n",
    "    df = df[df['Sales (Domestic Ultimate Total USD)'] >= 0]\n",
    "    return df   "
   ],
   "metadata": {
    "collapsed": false,
    "ExecuteTime": {
     "end_time": "2024-01-29T14:21:36.603962600Z",
     "start_time": "2024-01-29T14:21:36.558912700Z"
    }
   }
  },
  {
   "cell_type": "markdown",
   "metadata": {},
   "source": [
    "<h3><font color=\"green\"> 1.18 Sales (Global Ultimate Total USD) </font></h3>\n",
    "\n",
    "![global sales](./data/sales_global.png)\n",
    "\n",
    "\n",
    "Since this is a numerical value (with high correlation) and nothing is missing, we are normalizing it inorder to consolidate the impact each value would have on the regressor."
   ]
  },
  {
   "cell_type": "code",
   "execution_count": 33,
   "outputs": [],
   "source": [
    "def handle_global_sales(df):\n",
    "    df = normalize_column(df, \"Sales (Global Ultimate Total USD)\")\n",
    "    return df"
   ],
   "metadata": {
    "collapsed": false,
    "ExecuteTime": {
     "end_time": "2024-01-29T14:31:08.613800Z",
     "start_time": "2024-01-29T14:31:08.540263100Z"
    }
   }
  },
  {
   "cell_type": "markdown",
   "metadata": {},
   "source": [
    "<h3><font color=\"green\"> 1.19 Import/Export Status </font></h3>\n",
    "\n",
    "![import export](./data/import_export_type.png)\n",
    "\n",
    "There are 3 different classes - Import, Export, Both Import/Export, but 77%* of the records are missing. Hence, we are dropping this."
   ]
  },
  {
   "cell_type": "markdown",
   "metadata": {},
   "source": [
    "<h3><font color=\"green\"> 1.20 Fiscal Year End </font></h3>\n",
    "\n",
    "![fiscal](./data/fiscal.png)\n",
    "\n",
    "It is of type timestamp, 79%* is missing and this could be dropped."
   ]
  },
  {
   "cell_type": "markdown",
   "source": [
    "<h3><font color=\"green\">1.21 Sales Contribution per employee </font></h3>\n",
    "\n",
    "Since the no of employees widely ranges from 1 to 12k in some cases *, we have decided to add another column to find out the contribution every employee towards to the total sales earned by that company.\n",
    "\n",
    "Since the Domestic Sales earned is the target, we chose to use the Global Sales divided by the Global Employees as a new feature and added it to the dataset.\n",
    "\n",
    "The rationale here is that some particular industry, country combinations might have very high earnings but very few employees which implies that those employees are extremely productive which is what we want to incentivise and feed into the model as a pattern for learning."
   ],
   "metadata": {
    "collapsed": false
   }
  },
  {
   "cell_type": "code",
   "execution_count": 20,
   "outputs": [],
   "source": [
    "def handle_employee_contribution(df):\n",
    "    df[\"Global Employee Contribution\"] = df[\"Sales (Global Ultimate Total USD)\"] / df[\"Employees (Global Ultimate Total)\"]\n",
    "    df = normalize_column(df, \"Global Employee Contribution\")\n",
    "    return df"
   ],
   "metadata": {
    "collapsed": false,
    "ExecuteTime": {
     "end_time": "2024-01-29T14:21:42.153965600Z",
     "start_time": "2024-01-29T14:21:42.116332400Z"
    }
   }
  },
  {
   "cell_type": "markdown",
   "source": [
    "<h3><font color=\"green\"> 1.22 Pearson Correlation Heatmap </font></h3>\n",
    "\n",
    "![corr](./data/corr_heatmap.png)\n",
    "\n",
    "This was the correlation heatmap we used additionally, to make all of our choices on each of the columns mentioned above.\n",
    "\n",
    "For all the columns we have planned to drop none of them have a high correlation with the target value at all which further bolstered our decision making."
   ],
   "metadata": {
    "collapsed": false
   }
  },
  {
   "cell_type": "markdown",
   "source": [
    "<h3><font color=\"green\"> 1.23 EDA orchestration </font></h3>\n",
    "\n",
    "This function encapsulates all of our EDA steps to be performed on both the train and the test data. Kindly run the cell below!"
   ],
   "metadata": {
    "collapsed": false
   }
  },
  {
   "cell_type": "code",
   "execution_count": 34,
   "outputs": [],
   "source": [
    "def perform_eda_steps(df, test_mode):\n",
    "    df = impute_employees(df)\n",
    "    df = handle_entity_type(df)\n",
    "    df = handle_is_domestic_ultimate(df)\n",
    "    df = handle_is_global_ultimate(df)\n",
    "    df = handle_year(df)\n",
    "\n",
    "    df = handle_company_description(df)\n",
    "    df = handle_lat_long(df)\n",
    "\n",
    "    df = handle_countries_with_currency(df)\n",
    "    df = handle_global_sales(df)\n",
    "\n",
    "    df = handle_employee_contribution(df)\n",
    "    df = normalize_employees(df)\n",
    "\n",
    "\n",
    "    cols_to_drop = [\n",
    "        \"AccountID\",\n",
    "        \"Company\",\n",
    "        \"SIC Code\",\n",
    "        \"Industry\",\n",
    "        \"8-Digit SIC Code\",\n",
    "        \"8-Digit SIC Description\",\n",
    "        \"Parent Company\",\n",
    "        \"Ownership Type\",\n",
    "        \"Square Footage\",\n",
    "        \"Company Status (Active/Inactive)\",\n",
    "        \"Employees (Single Site)\",\n",
    "        \"Import/Export Status\",\n",
    "        \"Fiscal Year End\",\n",
    "        \"Global Ultimate Company\",\n",
    "        \"Domestic Ultimate Company\",\n",
    "        \"LATITUDE\",\n",
    "        \"LONGITUDE\",\n",
    "        \"Company Description\"\n",
    "    ]\n",
    "    df = drop_columns(df, cols_to_drop)\n",
    "    if not test_mode:\n",
    "        df = drop_negative_sales(df)\n",
    "    return df\n",
    "\n"
   ],
   "metadata": {
    "collapsed": false,
    "ExecuteTime": {
     "end_time": "2024-01-29T14:31:13.136622500Z",
     "start_time": "2024-01-29T14:31:13.098202700Z"
    }
   }
  },
  {
   "cell_type": "code",
   "execution_count": 35,
   "outputs": [
    {
     "name": "stdout",
     "output_type": "stream",
     "text": [
      "After imputing the number is 0\n",
      "After imputing the number is 0\n",
      "Columns ['Entity Type'] have been one hot encoded!\n",
      "Columns ['Is Domestic Ultimate'] have been one hot encoded!\n",
      "Columns ['Is Global Ultimate'] have been one hot encoded!\n",
      "Year found has been imputed\n"
     ]
    },
    {
     "name": "stderr",
     "output_type": "stream",
     "text": [
      "D:\\Anaconda\\Lib\\site-packages\\sklearn\\cluster\\_kmeans.py:1412: FutureWarning: The default value of `n_init` will change from 10 to 'auto' in 1.4. Set the value of `n_init` explicitly to suppress the warning\n",
      "  super()._check_params_vs_input(X, default_n_init=10)\n"
     ]
    },
    {
     "name": "stdout",
     "output_type": "stream",
     "text": [
      "Columns ['Company Description Cluster Label'] have been one hot encoded!\n"
     ]
    },
    {
     "name": "stderr",
     "output_type": "stream",
     "text": [
      "D:\\Anaconda\\Lib\\site-packages\\sklearn\\cluster\\_kmeans.py:1412: FutureWarning: The default value of `n_init` will change from 10 to 'auto' in 1.4. Set the value of `n_init` explicitly to suppress the warning\n",
      "  super()._check_params_vs_input(X, default_n_init=10)\n"
     ]
    },
    {
     "name": "stdout",
     "output_type": "stream",
     "text": [
      "Columns ['Lat Long Cluster Label'] have been one hot encoded!\n",
      "0.811302 14849.853936\n",
      "Column name Parent Country has been normalized\n",
      "0.811302 14849.853936\n",
      "Column name Global Ultimate Country has been normalized\n",
      "1.0 514000000000.0\n",
      "Column name Sales (Global Ultimate Total USD) has been normalized\n",
      "0.0 0.0563799371239748\n",
      "Column name Global Employee Contribution has been normalized\n",
      "1.0 80000.0\n",
      "Column name Employees (Domestic Ultimate Total) has been normalized\n",
      "1.0 2190000.0\n",
      "Column name Employees (Global Ultimate Total) has been normalized\n",
      "Columns ['AccountID', 'Company', 'SIC Code', 'Industry', '8-Digit SIC Code', '8-Digit SIC Description', 'Parent Company', 'Ownership Type', 'Square Footage', 'Company Status (Active/Inactive)', 'Employees (Single Site)', 'Import/Export Status', 'Fiscal Year End', 'Global Ultimate Company', 'Domestic Ultimate Company', 'LATITUDE', 'LONGITUDE', 'Company Description'] have been dropped!\n"
     ]
    }
   ],
   "source": [
    "processed_df = perform_eda_steps(df, test_mode= False)"
   ],
   "metadata": {
    "collapsed": false,
    "ExecuteTime": {
     "end_time": "2024-01-29T14:31:32.040985200Z",
     "start_time": "2024-01-29T14:31:13.826999500Z"
    }
   }
  },
  {
   "cell_type": "code",
   "execution_count": 37,
   "outputs": [
    {
     "name": "stdout",
     "output_type": "stream",
     "text": [
      "There are no NaN or Null values in the DataFrame.\n"
     ]
    }
   ],
   "source": [
    "def check_for_nan_null(df):\n",
    "    if df.isna().any().any() or df.isnull().any().any():\n",
    "        print(\"There are NaN or Null values in the DataFrame.\")\n",
    "    else:\n",
    "        print(\"There are no NaN or Null values in the DataFrame.\")\n",
    "            \n",
    "check_for_nan_null(processed_df)"
   ],
   "metadata": {
    "collapsed": false,
    "ExecuteTime": {
     "end_time": "2024-01-29T14:32:36.552662Z",
     "start_time": "2024-01-29T14:32:36.512313400Z"
    }
   }
  },
  {
   "cell_type": "code",
   "execution_count": 38,
   "outputs": [
    {
     "data": {
      "text/plain": "   Year Found  Parent Country Currency  Employees (Domestic Ultimate Total)  \\\n0        2020                 0.000038                             0.000300   \n1        2015                 0.000038                             0.001238   \n2        1993                 0.029642                             0.000038   \n3        2006                 0.000038                             0.001238   \n4        2006                 0.000038                             0.000038   \n\n   Employees (Global Ultimate Total)  Sales (Domestic Ultimate Total USD)  \\\n0                           0.003027                         2.209224e+06   \n1                           0.000045                         7.093536e+09   \n2                           0.000001                         1.026308e+06   \n3                           0.000045                         7.339898e+10   \n4                           0.000001                         4.322130e+05   \n\n   Sales (Global Ultimate Total USD)  Global Ultimate Country Currency  \\\n0                       9.023093e-06                          0.000000   \n1                       1.380065e-02                          0.000038   \n2                       1.996706e-06                          0.029642   \n3                       1.427996e-01                          0.000038   \n4                       8.408794e-07                          0.000038   \n\n   Entity Type_Branch  Entity Type_Independent  Entity Type_Parent  ...  \\\n0               False                    False               False  ...   \n1               False                    False               False  ...   \n2               False                    False               False  ...   \n3               False                    False               False  ...   \n4               False                    False                True  ...   \n\n   Lat Long Cluster Label_26  Lat Long Cluster Label_27  \\\n0                      False                      False   \n1                      False                      False   \n2                      False                      False   \n3                       True                      False   \n4                      False                      False   \n\n   Lat Long Cluster Label_28  Lat Long Cluster Label_29  \\\n0                      False                      False   \n1                      False                      False   \n2                      False                      False   \n3                      False                      False   \n4                      False                      False   \n\n   Lat Long Cluster Label_30  Lat Long Cluster Label_31  \\\n0                       True                      False   \n1                      False                      False   \n2                      False                      False   \n3                      False                      False   \n4                      False                      False   \n\n   Lat Long Cluster Label_32  Lat Long Cluster Label_33  \\\n0                      False                      False   \n1                      False                      False   \n2                      False                      False   \n3                      False                      False   \n4                      False                      False   \n\n   Lat Long Cluster Label_34  Global Employee Contribution  \n0                      False                  2.413748e-08  \n1                      False                  2.447795e-03  \n2                      False                  8.853798e-06  \n3                      False                  2.532808e-02  \n4                      False                  3.728629e-06  \n\n[5 rows x 93 columns]",
      "text/html": "<div>\n<style scoped>\n    .dataframe tbody tr th:only-of-type {\n        vertical-align: middle;\n    }\n\n    .dataframe tbody tr th {\n        vertical-align: top;\n    }\n\n    .dataframe thead th {\n        text-align: right;\n    }\n</style>\n<table border=\"1\" class=\"dataframe\">\n  <thead>\n    <tr style=\"text-align: right;\">\n      <th></th>\n      <th>Year Found</th>\n      <th>Parent Country Currency</th>\n      <th>Employees (Domestic Ultimate Total)</th>\n      <th>Employees (Global Ultimate Total)</th>\n      <th>Sales (Domestic Ultimate Total USD)</th>\n      <th>Sales (Global Ultimate Total USD)</th>\n      <th>Global Ultimate Country Currency</th>\n      <th>Entity Type_Branch</th>\n      <th>Entity Type_Independent</th>\n      <th>Entity Type_Parent</th>\n      <th>...</th>\n      <th>Lat Long Cluster Label_26</th>\n      <th>Lat Long Cluster Label_27</th>\n      <th>Lat Long Cluster Label_28</th>\n      <th>Lat Long Cluster Label_29</th>\n      <th>Lat Long Cluster Label_30</th>\n      <th>Lat Long Cluster Label_31</th>\n      <th>Lat Long Cluster Label_32</th>\n      <th>Lat Long Cluster Label_33</th>\n      <th>Lat Long Cluster Label_34</th>\n      <th>Global Employee Contribution</th>\n    </tr>\n  </thead>\n  <tbody>\n    <tr>\n      <th>0</th>\n      <td>2020</td>\n      <td>0.000038</td>\n      <td>0.000300</td>\n      <td>0.003027</td>\n      <td>2.209224e+06</td>\n      <td>9.023093e-06</td>\n      <td>0.000000</td>\n      <td>False</td>\n      <td>False</td>\n      <td>False</td>\n      <td>...</td>\n      <td>False</td>\n      <td>False</td>\n      <td>False</td>\n      <td>False</td>\n      <td>True</td>\n      <td>False</td>\n      <td>False</td>\n      <td>False</td>\n      <td>False</td>\n      <td>2.413748e-08</td>\n    </tr>\n    <tr>\n      <th>1</th>\n      <td>2015</td>\n      <td>0.000038</td>\n      <td>0.001238</td>\n      <td>0.000045</td>\n      <td>7.093536e+09</td>\n      <td>1.380065e-02</td>\n      <td>0.000038</td>\n      <td>False</td>\n      <td>False</td>\n      <td>False</td>\n      <td>...</td>\n      <td>False</td>\n      <td>False</td>\n      <td>False</td>\n      <td>False</td>\n      <td>False</td>\n      <td>False</td>\n      <td>False</td>\n      <td>False</td>\n      <td>False</td>\n      <td>2.447795e-03</td>\n    </tr>\n    <tr>\n      <th>2</th>\n      <td>1993</td>\n      <td>0.029642</td>\n      <td>0.000038</td>\n      <td>0.000001</td>\n      <td>1.026308e+06</td>\n      <td>1.996706e-06</td>\n      <td>0.029642</td>\n      <td>False</td>\n      <td>False</td>\n      <td>False</td>\n      <td>...</td>\n      <td>False</td>\n      <td>False</td>\n      <td>False</td>\n      <td>False</td>\n      <td>False</td>\n      <td>False</td>\n      <td>False</td>\n      <td>False</td>\n      <td>False</td>\n      <td>8.853798e-06</td>\n    </tr>\n    <tr>\n      <th>3</th>\n      <td>2006</td>\n      <td>0.000038</td>\n      <td>0.001238</td>\n      <td>0.000045</td>\n      <td>7.339898e+10</td>\n      <td>1.427996e-01</td>\n      <td>0.000038</td>\n      <td>False</td>\n      <td>False</td>\n      <td>False</td>\n      <td>...</td>\n      <td>True</td>\n      <td>False</td>\n      <td>False</td>\n      <td>False</td>\n      <td>False</td>\n      <td>False</td>\n      <td>False</td>\n      <td>False</td>\n      <td>False</td>\n      <td>2.532808e-02</td>\n    </tr>\n    <tr>\n      <th>4</th>\n      <td>2006</td>\n      <td>0.000038</td>\n      <td>0.000038</td>\n      <td>0.000001</td>\n      <td>4.322130e+05</td>\n      <td>8.408794e-07</td>\n      <td>0.000038</td>\n      <td>False</td>\n      <td>False</td>\n      <td>True</td>\n      <td>...</td>\n      <td>False</td>\n      <td>False</td>\n      <td>False</td>\n      <td>False</td>\n      <td>False</td>\n      <td>False</td>\n      <td>False</td>\n      <td>False</td>\n      <td>False</td>\n      <td>3.728629e-06</td>\n    </tr>\n  </tbody>\n</table>\n<p>5 rows × 93 columns</p>\n</div>"
     },
     "execution_count": 38,
     "metadata": {},
     "output_type": "execute_result"
    }
   ],
   "source": [
    "processed_df.head()"
   ],
   "metadata": {
    "collapsed": false,
    "ExecuteTime": {
     "end_time": "2024-01-29T14:32:44.789404600Z",
     "start_time": "2024-01-29T14:32:44.685019Z"
    }
   }
  },
  {
   "cell_type": "markdown",
   "source": [
    " # <font color=\"green\">2. Train Test Split</font>"
   ],
   "metadata": {
    "collapsed": false
   }
  },
  {
   "cell_type": "code",
   "execution_count": 40,
   "outputs": [],
   "source": [
    "# Encode categorical feature 'company_type' using LabelEncoder\n",
    "\n",
    "# Define features (X) and target variable (y)\n",
    "X = processed_df.drop('Sales (Domestic Ultimate Total USD)', axis=1)\n",
    "y = processed_df['Sales (Domestic Ultimate Total USD)']\n",
    "\n",
    "# Split the data into training and testing sets\n",
    "X_train, X_test, y_train, y_test = train_test_split(X, y, test_size=0.2, random_state=42)\n",
    "\n"
   ],
   "metadata": {
    "collapsed": false,
    "ExecuteTime": {
     "end_time": "2024-01-29T14:38:38.896746600Z",
     "start_time": "2024-01-29T14:38:38.823599200Z"
    }
   }
  },
  {
   "cell_type": "markdown",
   "source": [
    "# <font color=\"green\">3. Building models</font>\n",
    "\n",
    "Kindly run all cells under this section in sequence.\n",
    "\n",
    "We have tried two different models reknowned for their performance on tabular data namely:\n",
    "1. XGBoost\n",
    "2. Support Vector Regression"
   ],
   "metadata": {
    "collapsed": false
   }
  },
  {
   "cell_type": "code",
   "execution_count": 41,
   "outputs": [
    {
     "name": "stdout",
     "output_type": "stream",
     "text": [
      "XGBoost Mean Absolute Error: 727093796.3073167\n"
     ]
    }
   ],
   "source": [
    "# XGBoost Regression\n",
    "xgb_model = xgb.XGBRegressor(objective='reg:squarederror', random_state=42)\n",
    "xgb_model.fit(X_train, y_train)\n",
    "xgb_predictions = xgb_model.predict(X_test)\n"
   ],
   "metadata": {
    "collapsed": false,
    "ExecuteTime": {
     "end_time": "2024-01-29T14:38:59.981591500Z",
     "start_time": "2024-01-29T14:38:58.092469300Z"
    }
   }
  },
  {
   "cell_type": "code",
   "execution_count": 43,
   "outputs": [
    {
     "name": "stdout",
     "output_type": "stream",
     "text": [
      "SVR Mean Absolute Error: 580168676.2104256\n"
     ]
    }
   ],
   "source": [
    "\n",
    "# SVR Regression\n",
    "svr_model = SVR()\n",
    "svr_model.fit(X_train, y_train)\n",
    "svr_predictions = svr_model.predict(X_test)\n"
   ],
   "metadata": {
    "collapsed": false,
    "ExecuteTime": {
     "end_time": "2024-01-29T14:42:47.962343700Z",
     "start_time": "2024-01-29T14:42:10.621443300Z"
    }
   }
  },
  {
   "cell_type": "markdown",
   "source": [
    "The cell below calculates the required metrics"
   ],
   "metadata": {
    "collapsed": false
   }
  },
  {
   "cell_type": "code",
   "execution_count": 55,
   "outputs": [
    {
     "name": "stdout",
     "output_type": "stream",
     "text": [
      "XGBoost AIC: 264840.13312143565\n",
      "XGBoost Adjusted R-squared: 0.03896341991356944\n",
      "XGBoost Root Mean Squared Error: 7035781432.4591675\n",
      "XGBoost Mean Absolute Error: 727093796.3073167\n",
      "SVR AIC: 265203.05079907126\n",
      "SVR Adjusted R-squared: -0.02269696888866335\n",
      "SVR Root Mean Squared Error: 7257981629.9367075\n",
      "SVR Mean Absolute Error: 580168676.2104256\n"
     ]
    }
   ],
   "source": [
    "def calculate_aic(n, mse, num_params):\n",
    "    aic = n * np.log(mse) + 2 * num_params\n",
    "    return aic\n",
    "\n",
    "# Calculate R-squared\n",
    "r2_xgb = r2_score(y_test, xgb_predictions)\n",
    "r2_svr = r2_score(y_test, svr_predictions)\n",
    "\n",
    "# Calculate AIC\n",
    "n_xgb = len(y_test)\n",
    "n_svr = len(y_test)\n",
    "\n",
    "num_params_xgb = X_test.shape[1] + 1  # Number of parameters in XGBoost model\n",
    "num_params_svr = X_test.shape[1] + 1  # Number of parameters in SVR model\n",
    "\n",
    "mse_xgb = mean_squared_error(y_test, xgb_predictions)\n",
    "mse_svr = mean_squared_error(y_test, svr_predictions)\n",
    "\n",
    "aic_xgb = calculate_aic(n_xgb, mse_xgb, num_params_xgb)\n",
    "aic_svr = calculate_aic(n_svr, mse_svr, num_params_svr)\n",
    "\n",
    "# Calculate Adjusted R-squared\n",
    "adj_r2_xgb = 1 - (1 - r2_xgb) * ((n_xgb - 1) / (n_xgb - num_params_xgb - 1))\n",
    "adj_r2_svr = 1 - (1 - r2_svr) * ((n_svr - 1) / (n_svr - num_params_svr - 1))\n",
    "\n",
    "print(f\"XGBoost AIC: {aic_xgb}\")\n",
    "print(f\"XGBoost Adjusted R-squared: {adj_r2_xgb}\")\n",
    "xgb_rmse = mean_squared_error(y_test, xgb_predictions)\n",
    "print(f\"XGBoost Root Mean Squared Error: {math.sqrt(xgb_rmse)}\")\n",
    "xgb_mae = mean_absolute_error(y_test, xgb_predictions)\n",
    "print(f\"XGBoost Mean Absolute Error: {xgb_mae}\")\n",
    "\n",
    "print(f\"SVR AIC: {aic_svr}\")\n",
    "print(f\"SVR Adjusted R-squared: {adj_r2_svr}\")\n",
    "\n",
    "svr_rmse = mean_squared_error(y_test, svr_predictions)\n",
    "print(f\"SVR Root Mean Squared Error: {math.sqrt(svr_rmse)}\")\n",
    "svr_mae = mean_absolute_error(y_test, svr_predictions)\n",
    "print(f\"SVR Mean Absolute Error: {svr_mae}\")"
   ],
   "metadata": {
    "collapsed": false,
    "ExecuteTime": {
     "end_time": "2024-01-29T14:55:57.292391500Z",
     "start_time": "2024-01-29T14:55:57.234552200Z"
    }
   }
  },
  {
   "cell_type": "code",
   "execution_count": 57,
   "outputs": [],
   "source": [
    "# Save XGBoost model\n",
    "joblib.dump(xgb_model, 'xgb_model.joblib')\n",
    "\n",
    "# Save SVR model\n",
    "joblib.dump(svr_model, 'svr_model.joblib')\n",
    "\n",
    "# Load XGBoost model\n",
    "loaded_xgb_model = joblib.load('xgb_model.joblib')\n",
    "\n",
    "# Load SVR model\n",
    "loaded_svr_model = joblib.load('svr_model.joblib')"
   ],
   "metadata": {
    "collapsed": false,
    "ExecuteTime": {
     "end_time": "2024-01-29T14:57:29.569847500Z",
     "start_time": "2024-01-29T14:57:29.450497100Z"
    }
   }
  },
  {
   "cell_type": "markdown",
   "source": [
    "## The cell below is **NOT** to be removed\n",
    "##### The function is to be amended so that it accepts the given input (dataframe) and returns the required output (list).\n",
    "##### It is recommended to test the function out prior to submission\n",
    "-------------------------------------------------------------------------------------------------------------------------------\n",
    "##### The hidden_data parsed into the function below will have the same layout columns wise as the dataset *SENT* to you\n",
    "##### Thus, ensure that steps taken to modify the initial dataset to fit into the model are also carried out in the function below"
   ],
   "metadata": {
    "collapsed": false
   }
  },
  {
   "cell_type": "code",
   "execution_count": 58,
   "outputs": [],
   "source": [
    "def testing_hidden_data(hidden_data: pd.DataFrame) -> list:\n",
    "    '''DO NOT REMOVE THIS FUNCTION.\n",
    "\n",
    "        The function accepts a dataframe as input and return an iterable (list)\n",
    "        of binary classes as output.\n",
    "\n",
    "        The function should be coded to test on hidden data\n",
    "        and should include any preprocessing functions needed for your model to perform.\n",
    "\n",
    "        All relevant code MUST be included in this function.'''\n",
    "\n",
    "    # perform eda on test data\n",
    "    hidden_data = perform_eda_steps(hidden_data, True)\n",
    "    \n",
    "    # run the best model on the data\n",
    "    loaded_xgb_model = joblib.load('xgb_model.joblib')\n",
    "    result = loaded_xgb_model.predict(hidden_data)\n",
    "    print(\"Predictions Done\")\n",
    "    print()\n",
    "\n",
    "    return result"
   ],
   "metadata": {
    "collapsed": false,
    "ExecuteTime": {
     "end_time": "2024-01-29T15:00:46.191773Z",
     "start_time": "2024-01-29T15:00:46.155898800Z"
    }
   }
  },
  {
   "cell_type": "markdown",
   "source": [
    "##### Cell to check testing_hidden_data function"
   ],
   "metadata": {
    "collapsed": false
   }
  },
  {
   "cell_type": "code",
   "execution_count": 59,
   "outputs": [
    {
     "name": "stdout",
     "output_type": "stream",
     "text": [
      "After imputing the number is 3\n",
      "There are still missing values imputing with SIC Code\n",
      "After imputing with SIC the number is 0\n",
      "After imputing the number is 157\n",
      "There are still missing values imputing with SIC Code\n",
      "After imputing with SIC the number is 2\n",
      "There are still missing values imputing with mean\n",
      "After imputing with overall mean the number is 0\n",
      "Columns ['Entity Type'] have been one hot encoded!\n",
      "Columns ['Is Domestic Ultimate'] have been one hot encoded!\n",
      "Columns ['Is Global Ultimate'] have been one hot encoded!\n",
      "Year found has been imputed\n"
     ]
    },
    {
     "name": "stderr",
     "output_type": "stream",
     "text": [
      "D:\\Anaconda\\Lib\\site-packages\\sklearn\\cluster\\_kmeans.py:1412: FutureWarning: The default value of `n_init` will change from 10 to 'auto' in 1.4. Set the value of `n_init` explicitly to suppress the warning\n",
      "  super()._check_params_vs_input(X, default_n_init=10)\n"
     ]
    },
    {
     "name": "stdout",
     "output_type": "stream",
     "text": [
      "Columns ['Company Description Cluster Label'] have been one hot encoded!\n"
     ]
    },
    {
     "name": "stderr",
     "output_type": "stream",
     "text": [
      "D:\\Anaconda\\Lib\\site-packages\\sklearn\\cluster\\_kmeans.py:1412: FutureWarning: The default value of `n_init` will change from 10 to 'auto' in 1.4. Set the value of `n_init` explicitly to suppress the warning\n",
      "  super()._check_params_vs_input(X, default_n_init=10)\n"
     ]
    },
    {
     "name": "stdout",
     "output_type": "stream",
     "text": [
      "Columns ['Lat Long Cluster Label'] have been one hot encoded!\n",
      "0.811302 14849.853936\n",
      "Column name Parent Country has been normalized\n",
      "0.811302 14849.853936\n",
      "Column name Global Ultimate Country has been normalized\n",
      "1.0 514000000000.0\n",
      "Column name Sales (Global Ultimate Total USD) has been normalized\n",
      "0.0 0.0563799371239748\n",
      "Column name Global Employee Contribution has been normalized\n",
      "1.0 80000.0\n",
      "Column name Employees (Domestic Ultimate Total) has been normalized\n",
      "1.0 2190000.0\n",
      "Column name Employees (Global Ultimate Total) has been normalized\n",
      "Columns ['AccountID', 'Company', 'SIC Code', 'Industry', '8-Digit SIC Code', '8-Digit SIC Description', 'Parent Company', 'Ownership Type', 'Square Footage', 'Company Status (Active/Inactive)', 'Employees (Single Site)', 'Import/Export Status', 'Fiscal Year End', 'Global Ultimate Company', 'Domestic Ultimate Company', 'LATITUDE', 'LONGITUDE', 'Company Description'] have been dropped!\n",
      "[ 1.2689465e+08  6.7037476e+09  4.2824610e+06 ...  7.0709500e+06\n",
      " -3.4042636e+07 -1.6384314e+07]\n"
     ]
    }
   ],
   "source": [
    "# This cell should output a list of predictions.\n",
    "test_df = pd.read_csv(filepath)\n",
    "test_df = test_df.drop(columns=['Sales (Domestic Ultimate Total USD)'])\n",
    "print(testing_hidden_data(test_df))\n"
   ],
   "metadata": {
    "collapsed": false,
    "ExecuteTime": {
     "end_time": "2024-01-29T15:01:32.839241400Z",
     "start_time": "2024-01-29T15:01:14.830836600Z"
    }
   }
  },
  {
   "cell_type": "markdown",
   "source": [
    "### Please have the filename renamed and ensure that it can be run with the requirements above being met. All the best!"
   ],
   "metadata": {
    "collapsed": false
   }
  },
  {
   "cell_type": "markdown",
   "source": [
    "\n",
    "# <font color=\"green\"> Experiment Inference and Results</font> \n",
    "\n",
    "1. *AIC (Akaike Information Criterion):*\n",
    "   - XGBoost AIC: 264840.13\n",
    "   - SVR AIC: 265203.05\n",
    "\n",
    "   *Comparison:*\n",
    "   - Both models have similar AIC values, indicating comparable goodness of fit considering model complexity.\n",
    "\n",
    "2. *Adjusted R-squared:*\n",
    "   - XGBoost Adjusted R-squared: 0.03896\n",
    "   - SVR Adjusted R-squared: -0.02270\n",
    "\n",
    "   *Comparison:*\n",
    "   - The XGBoost model shows a positive adjusted R-squared, which is an improvement over the SVR model. However, the low absolute values suggest that neither model explains a large proportion of the variance in the target column.\n",
    "\n",
    "3. *Root Mean Squared Error (RMSE):*\n",
    "   - XGBoost RMSE: 7035781432.46\n",
    "   - SVR RMSE: 7257981629.94\n",
    "\n",
    "   *Comparison:*\n",
    "   - Considering the high variability and magnitude of values in the original target column (on the order of \\(10^{12}\\)), the RMSE values of both models are quite large. The XGBoost model has a slightly lower RMSE, indicating a better but still challenging predictive performance.\n",
    "\n",
    "4. *Additional Insights:*\n",
    "   - The original dataset exhibited characteristics such as high skewness, imbalance, and a large number of missing values.\n",
    "   - Imbalanced and skewed data may pose challenges for regression models, especially when predicting a target variable with a wide range of values.\n",
    "   - The need to drop columns due to missing values might have resulted in a loss of potentially valuable information. Additional data, especially economic indicators, and an increase in the number of rows could have improved the models' ability to capture patterns.\n",
    "\n",
    "*Conclusion:*\n",
    "   - The XGBoost and SVR models provide limited explanatory power for the target variable, considering the challenging characteristics of the original dataset, such as skewness, imbalance, and missing values.\n",
    "   - The performance metrics need to be interpreted cautiously in the context of these challenges, and further exploration, feature engineering, and data augmentation with additional relevant features and more data could potentially enhance model performance.\n",
    "   - The observed improvement in adjusted R-squared and lower RMSE in the XGBoost model might be indicative of its ability to capture some patterns, but the limitations of the dataset should be acknowledged.\n",
    "   - Future efforts could focus on addressing data limitations, exploring alternative modeling approaches, and obtaining additional relevant data to improve the robustness of the predictive models."
   ],
   "metadata": {
    "collapsed": false
   }
  }
 ],
 "metadata": {
  "kernelspec": {
   "display_name": "Python 3",
   "language": "python",
   "name": "python3"
  },
  "language_info": {
   "codemirror_mode": {
    "name": "ipython",
    "version": 3
   },
   "file_extension": ".py",
   "mimetype": "text/x-python",
   "name": "python",
   "nbconvert_exporter": "python",
   "pygments_lexer": "ipython3",
   "version": "3.10.9"
  }
 },
 "nbformat": 4,
 "nbformat_minor": 2
}
